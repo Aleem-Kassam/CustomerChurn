{
 "cells": [
  {
   "cell_type": "markdown",
   "metadata": {},
   "source": [
    "# Machine learning project -- Part 3  Create data pipeline\n",
    "\n",
    "This project is to build a predictive machine learning model using the customer churn data available at Kaggle website. <br>\n",
    "Part 3 will look at create data pipelines for transforming and engineering new features to improve model performance.<br>\n",
    "\n",
    "The transformation to be considered:\n",
    "1. Imputing missing value for categorical variables\n",
    "2. Imputing missing value for numerical variables\n",
    "3. categorical variables: one hot encoding and ordinal encoding \n",
    "4. numerical variable: log transformation and standard scaling\n",
    "5. Feature engineering: binning/bucketing, percent change for features of consecutive periods"
   ]
  },
  {
   "cell_type": "markdown",
   "metadata": {},
   "source": [
    "## Global functions"
   ]
  },
  {
   "cell_type": "code",
   "execution_count": 1,
   "metadata": {},
   "outputs": [],
   "source": [
    "import pandas as pd\n",
    "import numpy as np\n",
    "import joblib\n",
    "\n",
    "from sklearn.model_selection import train_test_split\n",
    "from sklearn.preprocessing import FunctionTransformer\n",
    "from sklearn.preprocessing import StandardScaler, OneHotEncoder, OrdinalEncoder\n",
    "from sklearn.impute import SimpleImputer\n",
    "from sklearn.pipeline import Pipeline\n",
    "from sklearn.compose import ColumnTransformer\n",
    "\n",
    "from customfunctions import combine_cat, log_transform, impute_balance, impute_credit_debit\n",
    "from customfunctions import calculate_pct_change, calculate_ratio \n",
    "from customfunctions import calculate_vintage_age_score_eqdist, calculate_vintage_age_score_eqdens"
   ]
  },
  {
   "cell_type": "markdown",
   "metadata": {},
   "source": [
    "## Read in data nad split into train and test\n",
    "### Read in data"
   ]
  },
  {
   "cell_type": "code",
   "execution_count": 2,
   "metadata": {},
   "outputs": [
    {
     "name": "stdout",
     "output_type": "stream",
     "text": [
      "Shape: (17654, 20)\n"
     ]
    },
    {
     "data": {
      "text/html": [
       "<div>\n",
       "<style scoped>\n",
       "    .dataframe tbody tr th:only-of-type {\n",
       "        vertical-align: middle;\n",
       "    }\n",
       "\n",
       "    .dataframe tbody tr th {\n",
       "        vertical-align: top;\n",
       "    }\n",
       "\n",
       "    .dataframe thead th {\n",
       "        text-align: right;\n",
       "    }\n",
       "</style>\n",
       "<table border=\"1\" class=\"dataframe\">\n",
       "  <thead>\n",
       "    <tr style=\"text-align: right;\">\n",
       "      <th></th>\n",
       "      <th>customer_id</th>\n",
       "      <th>vintage</th>\n",
       "      <th>age</th>\n",
       "      <th>gender</th>\n",
       "      <th>dependents</th>\n",
       "      <th>occupation</th>\n",
       "      <th>customer_nw_category</th>\n",
       "      <th>branch_code</th>\n",
       "      <th>days_since_last_transaction</th>\n",
       "      <th>current_balance</th>\n",
       "      <th>previous_month_end_balance</th>\n",
       "      <th>average_monthly_balance_prevQ</th>\n",
       "      <th>average_monthly_balance_prevQ2</th>\n",
       "      <th>current_month_credit</th>\n",
       "      <th>previous_month_credit</th>\n",
       "      <th>current_month_debit</th>\n",
       "      <th>previous_month_debit</th>\n",
       "      <th>current_month_balance</th>\n",
       "      <th>previous_month_balance</th>\n",
       "      <th>churn</th>\n",
       "    </tr>\n",
       "  </thead>\n",
       "  <tbody>\n",
       "    <tr>\n",
       "      <th>14312</th>\n",
       "      <td>19609.0</td>\n",
       "      <td>938.0</td>\n",
       "      <td>46.0</td>\n",
       "      <td>Female</td>\n",
       "      <td>0.0</td>\n",
       "      <td>Engineer</td>\n",
       "      <td>High</td>\n",
       "      <td>136.0</td>\n",
       "      <td>217.0</td>\n",
       "      <td>6272.55</td>\n",
       "      <td>6272.55</td>\n",
       "      <td>6272.55</td>\n",
       "      <td>4600.54</td>\n",
       "      <td>0.26</td>\n",
       "      <td>0.26</td>\n",
       "      <td>0.26</td>\n",
       "      <td>0.26</td>\n",
       "      <td>6272.55</td>\n",
       "      <td>6272.55</td>\n",
       "      <td>Yes</td>\n",
       "    </tr>\n",
       "    <tr>\n",
       "      <th>5836</th>\n",
       "      <td>7953.0</td>\n",
       "      <td>2402.0</td>\n",
       "      <td>29.0</td>\n",
       "      <td>Male</td>\n",
       "      <td>0.0</td>\n",
       "      <td>Doctor</td>\n",
       "      <td>Low</td>\n",
       "      <td>641.0</td>\n",
       "      <td>303.0</td>\n",
       "      <td>2449.16</td>\n",
       "      <td>2449.16</td>\n",
       "      <td>2448.85</td>\n",
       "      <td>2417.84</td>\n",
       "      <td>0.03</td>\n",
       "      <td>0.03</td>\n",
       "      <td>0.03</td>\n",
       "      <td>325.73</td>\n",
       "      <td>2449.16</td>\n",
       "      <td>2479.67</td>\n",
       "      <td>Yes</td>\n",
       "    </tr>\n",
       "    <tr>\n",
       "      <th>9318</th>\n",
       "      <td>12779.0</td>\n",
       "      <td>4063.0</td>\n",
       "      <td>50.0</td>\n",
       "      <td>Male</td>\n",
       "      <td>0.0</td>\n",
       "      <td>Engineer</td>\n",
       "      <td>Low</td>\n",
       "      <td>419.0</td>\n",
       "      <td>49.0</td>\n",
       "      <td>9673.66</td>\n",
       "      <td>1662.99</td>\n",
       "      <td>3863.46</td>\n",
       "      <td>7407.13</td>\n",
       "      <td>0.51</td>\n",
       "      <td>643.37</td>\n",
       "      <td>561.27</td>\n",
       "      <td>286.23</td>\n",
       "      <td>2862.84</td>\n",
       "      <td>1547.78</td>\n",
       "      <td>Yes</td>\n",
       "    </tr>\n",
       "    <tr>\n",
       "      <th>15678</th>\n",
       "      <td>21478.0</td>\n",
       "      <td>4863.0</td>\n",
       "      <td>48.0</td>\n",
       "      <td>Male</td>\n",
       "      <td>0.0</td>\n",
       "      <td>Engineer</td>\n",
       "      <td>High</td>\n",
       "      <td>115.0</td>\n",
       "      <td>35.0</td>\n",
       "      <td>7357.85</td>\n",
       "      <td>8934.46</td>\n",
       "      <td>6536.30</td>\n",
       "      <td>4621.96</td>\n",
       "      <td>0.27</td>\n",
       "      <td>8463.13</td>\n",
       "      <td>642.09</td>\n",
       "      <td>3214.56</td>\n",
       "      <td>7933.18</td>\n",
       "      <td>6787.25</td>\n",
       "      <td>Yes</td>\n",
       "    </tr>\n",
       "    <tr>\n",
       "      <th>7520</th>\n",
       "      <td>10273.0</td>\n",
       "      <td>2596.0</td>\n",
       "      <td>90.0</td>\n",
       "      <td>Male</td>\n",
       "      <td>0.0</td>\n",
       "      <td>Engineer</td>\n",
       "      <td>Medium</td>\n",
       "      <td>60.0</td>\n",
       "      <td>54.0</td>\n",
       "      <td>4596.36</td>\n",
       "      <td>5612.16</td>\n",
       "      <td>4914.64</td>\n",
       "      <td>3328.07</td>\n",
       "      <td>0.24</td>\n",
       "      <td>1616.81</td>\n",
       "      <td>1016.04</td>\n",
       "      <td>NaN</td>\n",
       "      <td>4915.99</td>\n",
       "      <td>5470.39</td>\n",
       "      <td>Yes</td>\n",
       "    </tr>\n",
       "  </tbody>\n",
       "</table>\n",
       "</div>"
      ],
      "text/plain": [
       "       customer_id  vintage   age  gender  dependents occupation  \\\n",
       "14312      19609.0    938.0  46.0  Female         0.0   Engineer   \n",
       "5836        7953.0   2402.0  29.0    Male         0.0     Doctor   \n",
       "9318       12779.0   4063.0  50.0    Male         0.0   Engineer   \n",
       "15678      21478.0   4863.0  48.0    Male         0.0   Engineer   \n",
       "7520       10273.0   2596.0  90.0    Male         0.0   Engineer   \n",
       "\n",
       "      customer_nw_category  branch_code  days_since_last_transaction  \\\n",
       "14312                 High        136.0                        217.0   \n",
       "5836                   Low        641.0                        303.0   \n",
       "9318                   Low        419.0                         49.0   \n",
       "15678                 High        115.0                         35.0   \n",
       "7520                Medium         60.0                         54.0   \n",
       "\n",
       "       current_balance  previous_month_end_balance  \\\n",
       "14312          6272.55                     6272.55   \n",
       "5836           2449.16                     2449.16   \n",
       "9318           9673.66                     1662.99   \n",
       "15678          7357.85                     8934.46   \n",
       "7520           4596.36                     5612.16   \n",
       "\n",
       "       average_monthly_balance_prevQ  average_monthly_balance_prevQ2  \\\n",
       "14312                        6272.55                         4600.54   \n",
       "5836                         2448.85                         2417.84   \n",
       "9318                         3863.46                         7407.13   \n",
       "15678                        6536.30                         4621.96   \n",
       "7520                         4914.64                         3328.07   \n",
       "\n",
       "       current_month_credit  previous_month_credit  current_month_debit  \\\n",
       "14312                  0.26                   0.26                 0.26   \n",
       "5836                   0.03                   0.03                 0.03   \n",
       "9318                   0.51                 643.37               561.27   \n",
       "15678                  0.27                8463.13               642.09   \n",
       "7520                   0.24                1616.81              1016.04   \n",
       "\n",
       "       previous_month_debit  current_month_balance  previous_month_balance  \\\n",
       "14312                  0.26                6272.55                 6272.55   \n",
       "5836                 325.73                2449.16                 2479.67   \n",
       "9318                 286.23                2862.84                 1547.78   \n",
       "15678               3214.56                7933.18                 6787.25   \n",
       "7520                    NaN                4915.99                 5470.39   \n",
       "\n",
       "      churn  \n",
       "14312   Yes  \n",
       "5836    Yes  \n",
       "9318    Yes  \n",
       "15678   Yes  \n",
       "7520    Yes  "
      ]
     },
     "execution_count": 2,
     "metadata": {},
     "output_type": "execute_result"
    }
   ],
   "source": [
    "## Read in data\n",
    "df0 = pd.read_csv('./data/visathon_train_data.csv')#,index=customer_id)\n",
    "print('Shape: {}'.format(df0.shape))\n",
    "df0.sample(5)"
   ]
  },
  {
   "cell_type": "markdown",
   "metadata": {},
   "source": [
    "### Group features"
   ]
  },
  {
   "cell_type": "code",
   "execution_count": 3,
   "metadata": {},
   "outputs": [],
   "source": [
    "depend = ['dependents']\n",
    "cat_vars = ['gender', 'occupation']#,'branch_code']\n",
    "\n",
    "nw_cat = ['customer_nw_category']\n",
    "bal_vars = ['current_balance', 'current_month_balance', \n",
    "            'previous_month_end_balance','previous_month_balance',\n",
    "            'average_monthly_balance_prevQ', 'average_monthly_balance_prevQ2']\n",
    "debit_vars = ['current_month_debit','previous_month_debit']\n",
    "credit_vars = ['current_month_credit', 'previous_month_credit']\n",
    "vin_age_vars = ['vintage', 'age']\n",
    "vin_day_vars = ['days_since_last_transaction','vintage']\n",
    "vin_dep_vars = ['dependents','vintage']\n",
    "\n",
    "target = 'churn'"
   ]
  },
  {
   "cell_type": "markdown",
   "metadata": {},
   "source": [
    "### Split data"
   ]
  },
  {
   "cell_type": "code",
   "execution_count": 4,
   "metadata": {},
   "outputs": [],
   "source": [
    "target = 'churn'\n",
    "X = df0.drop(target,axis=1).copy()\n",
    "y = df0[target].copy()"
   ]
  },
  {
   "cell_type": "code",
   "execution_count": 5,
   "metadata": {},
   "outputs": [
    {
     "name": "stdout",
     "output_type": "stream",
     "text": [
      "X_train shape: (13240, 19)\n",
      "X_test shape: (4414, 19)\n",
      "y_train shape: (13240,)\n",
      "y_test shape: (4414,)\n"
     ]
    }
   ],
   "source": [
    "X_train,X_test,y_train,y_test = train_test_split(X,y,test_size=0.25, random_state=10086)\n",
    "print('X_train shape: {}\\nX_test shape: {}\\ny_train shape: {}\\ny_test shape: {}'.format( X_train.shape, X_test.shape, y_train.shape, y_test.shape))"
   ]
  },
  {
   "cell_type": "markdown",
   "metadata": {},
   "source": [
    "## Make pipelines\n",
    "### 1) Convert custom functions into transformers"
   ]
  },
  {
   "cell_type": "code",
   "execution_count": 6,
   "metadata": {},
   "outputs": [],
   "source": [
    "# Original features\n",
    "comb_cat_depend = FunctionTransformer(func=combine_cat, kw_args={'cutoff':6, 'replace':6}, validate=False)\n",
    "log_tsfm = FunctionTransformer(func=log_transform)\n",
    "impute_crdt_dbt = FunctionTransformer(func=impute_credit_debit)\n",
    "impute_bal = FunctionTransformer(func=impute_balance)\n",
    "\n",
    "# feature engineering\n",
    "pct_tsfm = FunctionTransformer(func=calculate_pct_change)\n",
    "ratio_tsfm = FunctionTransformer(func=calculate_ratio)\n",
    "seniority_tsfm_dist = FunctionTransformer(func=calculate_vintage_age_score_eqdist)\n",
    "seniority_tsfm_dens= FunctionTransformer(func=calculate_vintage_age_score_eqdens)"
   ]
  },
  {
   "cell_type": "markdown",
   "metadata": {},
   "source": [
    "### 2) Create pipelines"
   ]
  },
  {
   "cell_type": "code",
   "execution_count": 7,
   "metadata": {},
   "outputs": [],
   "source": [
    "pipe_depend = Pipeline([('comb_depend',comb_cat_depend),\n",
    "                        ('imput_depend',SimpleImputer(strategy='constant',fill_value=1000)),\n",
    "                        ('ohe_depend',OneHotEncoder(handle_unknown='ignore',sparse=False))\n",
    "                       ])\n",
    "pipe_cat = Pipeline([('imput_cat',SimpleImputer(strategy='constant',fill_value='other')),\n",
    "                     ('ohe_cat',OneHotEncoder(handle_unknown='ignore',sparse=False))])\n",
    "# num_vars\n",
    "pipe_vin_age = Pipeline([('imput_base',SimpleImputer(strategy='median')),\n",
    "                      ('scal_base',StandardScaler()) ]) # vintage, age\n",
    "pipe_days_br = Pipeline([('imput_days_br',SimpleImputer(strategy='median')),\n",
    "                     ('log_days_br',log_tsfm),\n",
    "#                      ('scal_days_br',StandardScaler())\n",
    "                        ]) # days_since_last_transaction\n",
    "pipe_bal = Pipeline([('imput_bal',impute_bal),#AmongFeaturesMeanImputer(features=bal_vars)),\n",
    "                     ('log_bal',log_tsfm),\n",
    "                     ('scal_bal',StandardScaler())\n",
    "                    ])\n",
    "pipe_credit = Pipeline([('imput_credit', impute_crdt_dbt), #AmongFeaturesMeanImputer(features=credit_vars)),\n",
    "                     ('log_credit',log_tsfm),\n",
    "                     ('scal_credit',StandardScaler())]) # credit columns\n",
    "pipe_debit = Pipeline([('imput_debit',impute_crdt_dbt),\n",
    "                     ('log_debit',log_tsfm),\n",
    "                     ('scal_debit',StandardScaler())]) # debit columns\n",
    "# feature engineering\n",
    "pipe_pct = Pipeline([('imput_bal_pct', impute_bal), #AmongFeaturesMeanImputer(features=bal_vars)),\n",
    "                     ('pct_chg',pct_tsfm),\n",
    "                     ('log_bal_pct',log_tsfm),\n",
    "                     ('scal_bal_pct',StandardScaler()) \n",
    "                    ]) # consecutive balance percent change\n",
    "pipe_vin_days = Pipeline([('imput_vinday',SimpleImputer(strategy='median')),\n",
    "                          ('ratio_vinday',ratio_tsfm), # df['days_since_last_transactio','vintage']\n",
    "                          ('scal_vinday',StandardScaler())\n",
    "                         ]) # vintage per days_since_last_transaction\n",
    "pipe_bal_person = Pipeline([('imput_bal_pers', impute_bal), #AmongFeaturesMeanImputer(features=bal_vars)),\n",
    "                            ('ratio_bal_pers',ratio_tsfm), # df['dependents',balance columns]\n",
    "                            ('log_bal_pers',log_tsfm),\n",
    "                            ('scal_bal_pers',StandardScaler()) \n",
    "                           ]) # balance per person\n",
    "pipe_credit_person = Pipeline([('imput_credit_pers', impute_crdt_dbt), #AmongFeaturesMeanImputer(features=credit_vars)),\n",
    "                               ('ratio_credit_pers',ratio_tsfm), # df['dependents',credit columns]\n",
    "                               ('log_credit_pers',log_tsfm),\n",
    "                               ('scal_credit_pers',StandardScaler())]) # credit per person\n",
    "pipe_debit_person = Pipeline([('imput_debit',impute_crdt_dbt),\n",
    "                              ('ratio_debit_pers',ratio_tsfm), # df['dependents', debit columns]\n",
    "                              ('log_debit_pers',log_tsfm),\n",
    "                              ('scal_debit_pers',StandardScaler())]) # debit per person\n",
    "pipe_seniority = Pipeline([('imput_vinage',SimpleImputer(strategy='median')),                      \n",
    "                           ('sr_tsfm', seniority_tsfm_dens),\n",
    "                           ('scal_vinage',StandardScaler()) \n",
    "                          ]) # vintage, age]) "
   ]
  },
  {
   "cell_type": "markdown",
   "metadata": {},
   "source": [
    "### 3) Assemble pipelines"
   ]
  },
  {
   "cell_type": "code",
   "execution_count": 8,
   "metadata": {},
   "outputs": [],
   "source": [
    "nw_categories = [['Low','Medium','High']]\n",
    "pipeline_data = ColumnTransformer([\n",
    "            # categorical vars\n",
    "           ('depend', pipe_depend, depend), # 7 cols\n",
    "           ('cat_vars', pipe_cat, cat_vars), # 8 colc\n",
    "           ('ode_nw', OrdinalEncoder(categories=nw_categories), nw_cat), # 1 col\n",
    "           # numeric vars\n",
    "           ('vin_age', pipe_vin_age, vin_age_vars), # 2 cols\n",
    "           ('days_br', pipe_days_br, ['days_since_last_transaction','branch_code']), # 2 col\n",
    "           ('num_bal', pipe_bal, bal_vars), # 6 cols\n",
    "           ('num_debit', pipe_debit, debit_vars), # 2 cols\n",
    "           ('num_credit', pipe_credit, credit_vars), # 2 cols\n",
    "           # engineered features\n",
    "           ('eng_pct',pipe_pct, bal_vars), # 5 cols\n",
    "           ('eng_vinday', pipe_vin_days, vin_day_vars), # 1 cols\n",
    "           ('eng_balpers', pipe_bal_person, depend+bal_vars), # 6 cols\n",
    "           ('eng_crdpers', pipe_credit_person, depend+credit_vars), # 2 cols\n",
    "           ('eng_dbtpers', pipe_debit_person, depend+debit_vars), # 2 cols\n",
    "           ('eng_srscore', pipe_seniority, vin_age_vars) #[vintage, age] # 1 cols\n",
    "  ]) #totla cols = 47"
   ]
  },
  {
   "cell_type": "markdown",
   "metadata": {},
   "source": [
    "## Apply pipeline"
   ]
  },
  {
   "cell_type": "code",
   "execution_count": 13,
   "metadata": {},
   "outputs": [
    {
     "data": {
      "text/plain": [
       "((13240, 47), (4414, 47))"
      ]
     },
     "execution_count": 13,
     "metadata": {},
     "output_type": "execute_result"
    }
   ],
   "source": [
    "pipeline_data.fit(X_train)\n",
    "\n",
    "X_train_transformed = pipeline_data.transform(X_train)\n",
    "X_test_transformed = pipeline_data.transform(X_test)\n",
    "\n",
    "X_train_transformed.shape, X_test_transformed.shape"
   ]
  },
  {
   "cell_type": "markdown",
   "metadata": {},
   "source": [
    "## Save pipeline"
   ]
  },
  {
   "cell_type": "code",
   "execution_count": 15,
   "metadata": {},
   "outputs": [
    {
     "data": {
      "text/plain": [
       "['pipeline_data.joblib']"
      ]
     },
     "execution_count": 15,
     "metadata": {},
     "output_type": "execute_result"
    }
   ],
   "source": [
    "joblib.dump(pipeline_data,'pipeline_dat.joblib')\n",
    "# pipeline_data = joblib.load('pipeline_dat.joblib')"
   ]
  },
  {
   "cell_type": "markdown",
   "metadata": {},
   "source": [
    "## Next step\n",
    "Next step is to feed the transformed data into models."
   ]
  }
 ],
 "metadata": {
  "kernelspec": {
   "display_name": "Python 3",
   "language": "python",
   "name": "python3"
  },
  "language_info": {
   "codemirror_mode": {
    "name": "ipython",
    "version": 3
   },
   "file_extension": ".py",
   "mimetype": "text/x-python",
   "name": "python",
   "nbconvert_exporter": "python",
   "pygments_lexer": "ipython3",
   "version": "3.8.5"
  }
 },
 "nbformat": 4,
 "nbformat_minor": 4
}
