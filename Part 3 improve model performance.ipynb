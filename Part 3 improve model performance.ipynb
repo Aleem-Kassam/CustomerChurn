{
 "cells": [
  {
   "cell_type": "markdown",
   "metadata": {},
   "source": [
    "# Machine learning project -- Part 3  Improve ML models performance\n",
    "\n",
    "This project is to build a predictive machine learning model using the customer churn data available at Kaggle website. <br>\n",
    "Part 3 will look at building data pipelines that include engineering new features, training various classification models, and hyperparameter tuning selected candidate models.<br>\n",
    "\n",
    "The classification algorithms to be considered:\n",
    "1. KNN\n",
    "2. logistic regression\n",
    "3. Decision Trees \n",
    "4. SVM linear\n",
    "5. SVM RBF\n",
    "6. neural network (multi-layer perceptron)\n",
    "7. Guassian process\n",
    "8. Naive-Bayes (GaussianNB)\n",
    "9. Quadratic Discriminant Analysis\n",
    "10. Ensemble model (e.g., Random Forest, boosting algorithms) \n"
   ]
  },
  {
   "cell_type": "markdown",
   "metadata": {},
   "source": [
    "## Prepare data\n",
    "### Global functions"
   ]
  },
  {
   "cell_type": "code",
   "execution_count": 161,
   "metadata": {},
   "outputs": [],
   "source": [
    "import pandas as pd\n",
    "import numpy as np\n",
    "import matplotlib.pyplot as plt\n",
    "import seaborn as sns\n",
    "\n",
    "import joblib\n",
    "from time import time\n",
    "\n",
    "from sklearn.model_selection import train_test_split\n",
    "from sklearn.preprocessing import StandardScaler, OneHotEncoder, OrdinalEncoder, FunctionTransformer\n",
    "from sklearn.impute import SimpleImputer\n",
    "from sklearn.pipeline import Pipeline\n",
    "from sklearn.compose import ColumnTransformer"
   ]
  },
  {
   "cell_type": "markdown",
   "metadata": {},
   "source": [
    "### Read in data"
   ]
  },
  {
   "cell_type": "code",
   "execution_count": 2,
   "metadata": {},
   "outputs": [
    {
     "name": "stdout",
     "output_type": "stream",
     "text": [
      "Shape: (17654, 20)\n"
     ]
    },
    {
     "data": {
      "text/html": [
       "<div>\n",
       "<style scoped>\n",
       "    .dataframe tbody tr th:only-of-type {\n",
       "        vertical-align: middle;\n",
       "    }\n",
       "\n",
       "    .dataframe tbody tr th {\n",
       "        vertical-align: top;\n",
       "    }\n",
       "\n",
       "    .dataframe thead th {\n",
       "        text-align: right;\n",
       "    }\n",
       "</style>\n",
       "<table border=\"1\" class=\"dataframe\">\n",
       "  <thead>\n",
       "    <tr style=\"text-align: right;\">\n",
       "      <th></th>\n",
       "      <th>customer_id</th>\n",
       "      <th>vintage</th>\n",
       "      <th>age</th>\n",
       "      <th>gender</th>\n",
       "      <th>dependents</th>\n",
       "      <th>occupation</th>\n",
       "      <th>customer_nw_category</th>\n",
       "      <th>branch_code</th>\n",
       "      <th>days_since_last_transaction</th>\n",
       "      <th>current_balance</th>\n",
       "      <th>previous_month_end_balance</th>\n",
       "      <th>average_monthly_balance_prevQ</th>\n",
       "      <th>average_monthly_balance_prevQ2</th>\n",
       "      <th>current_month_credit</th>\n",
       "      <th>previous_month_credit</th>\n",
       "      <th>current_month_debit</th>\n",
       "      <th>previous_month_debit</th>\n",
       "      <th>current_month_balance</th>\n",
       "      <th>previous_month_balance</th>\n",
       "      <th>churn</th>\n",
       "    </tr>\n",
       "  </thead>\n",
       "  <tbody>\n",
       "    <tr>\n",
       "      <th>17084</th>\n",
       "      <td>23412.0</td>\n",
       "      <td>4767.0</td>\n",
       "      <td>78.0</td>\n",
       "      <td>Male</td>\n",
       "      <td>0.0</td>\n",
       "      <td>Lawyer</td>\n",
       "      <td>High</td>\n",
       "      <td>1336.0</td>\n",
       "      <td>4.0</td>\n",
       "      <td>6853.27</td>\n",
       "      <td>6729.84</td>\n",
       "      <td>6724.64</td>\n",
       "      <td>7136.06</td>\n",
       "      <td>123.47</td>\n",
       "      <td>0.04</td>\n",
       "      <td>0.04</td>\n",
       "      <td>0.04</td>\n",
       "      <td>6751.12</td>\n",
       "      <td>6729.84</td>\n",
       "      <td>Yes</td>\n",
       "    </tr>\n",
       "    <tr>\n",
       "      <th>14012</th>\n",
       "      <td>19196.0</td>\n",
       "      <td>1519.0</td>\n",
       "      <td>35.0</td>\n",
       "      <td>Male</td>\n",
       "      <td>0.0</td>\n",
       "      <td>Accountant</td>\n",
       "      <td>Medium</td>\n",
       "      <td>20.0</td>\n",
       "      <td>41.0</td>\n",
       "      <td>22675.78</td>\n",
       "      <td>22479.53</td>\n",
       "      <td>23048.75</td>\n",
       "      <td>25045.84</td>\n",
       "      <td>0.06</td>\n",
       "      <td>15.63</td>\n",
       "      <td>512.91</td>\n",
       "      <td>417.31</td>\n",
       "      <td>22608.42</td>\n",
       "      <td>22953.98</td>\n",
       "      <td>Yes</td>\n",
       "    </tr>\n",
       "    <tr>\n",
       "      <th>17344</th>\n",
       "      <td>23770.0</td>\n",
       "      <td>1563.0</td>\n",
       "      <td>45.0</td>\n",
       "      <td>Male</td>\n",
       "      <td>0.0</td>\n",
       "      <td>Accountant</td>\n",
       "      <td>Medium</td>\n",
       "      <td>239.0</td>\n",
       "      <td>3.0</td>\n",
       "      <td>51661.42</td>\n",
       "      <td>21657.92</td>\n",
       "      <td>26622.51</td>\n",
       "      <td>14133.05</td>\n",
       "      <td>37931.86</td>\n",
       "      <td>5524.07</td>\n",
       "      <td>3942.13</td>\n",
       "      <td>16.04</td>\n",
       "      <td>46741.13</td>\n",
       "      <td>18545.29</td>\n",
       "      <td>Yes</td>\n",
       "    </tr>\n",
       "    <tr>\n",
       "      <th>424</th>\n",
       "      <td>575.0</td>\n",
       "      <td>1215.0</td>\n",
       "      <td>76.0</td>\n",
       "      <td>Male</td>\n",
       "      <td>0.0</td>\n",
       "      <td>Lawyer</td>\n",
       "      <td>Low</td>\n",
       "      <td>2615.0</td>\n",
       "      <td>15.0</td>\n",
       "      <td>3368.08</td>\n",
       "      <td>2895.97</td>\n",
       "      <td>2969.17</td>\n",
       "      <td>2262.76</td>\n",
       "      <td>351.14</td>\n",
       "      <td>0.46</td>\n",
       "      <td>0.46</td>\n",
       "      <td>0.46</td>\n",
       "      <td>3276.19</td>\n",
       "      <td>2892.05</td>\n",
       "      <td>Yes</td>\n",
       "    </tr>\n",
       "    <tr>\n",
       "      <th>782</th>\n",
       "      <td>1086.0</td>\n",
       "      <td>1202.0</td>\n",
       "      <td>33.0</td>\n",
       "      <td>Female</td>\n",
       "      <td>0.0</td>\n",
       "      <td>Engineer</td>\n",
       "      <td>Low</td>\n",
       "      <td>2710.0</td>\n",
       "      <td>6.0</td>\n",
       "      <td>19286.39</td>\n",
       "      <td>0.66</td>\n",
       "      <td>2562.23</td>\n",
       "      <td>1101.39</td>\n",
       "      <td>40714.94</td>\n",
       "      <td>0.66</td>\n",
       "      <td>0.66</td>\n",
       "      <td>0.66</td>\n",
       "      <td>7685.39</td>\n",
       "      <td>0.66</td>\n",
       "      <td>Yes</td>\n",
       "    </tr>\n",
       "  </tbody>\n",
       "</table>\n",
       "</div>"
      ],
      "text/plain": [
       "       customer_id  vintage   age  gender  dependents  occupation  \\\n",
       "17084      23412.0   4767.0  78.0    Male         0.0      Lawyer   \n",
       "14012      19196.0   1519.0  35.0    Male         0.0  Accountant   \n",
       "17344      23770.0   1563.0  45.0    Male         0.0  Accountant   \n",
       "424          575.0   1215.0  76.0    Male         0.0      Lawyer   \n",
       "782         1086.0   1202.0  33.0  Female         0.0    Engineer   \n",
       "\n",
       "      customer_nw_category  branch_code  days_since_last_transaction  \\\n",
       "17084                 High       1336.0                          4.0   \n",
       "14012               Medium         20.0                         41.0   \n",
       "17344               Medium        239.0                          3.0   \n",
       "424                    Low       2615.0                         15.0   \n",
       "782                    Low       2710.0                          6.0   \n",
       "\n",
       "       current_balance  previous_month_end_balance  \\\n",
       "17084          6853.27                     6729.84   \n",
       "14012         22675.78                    22479.53   \n",
       "17344         51661.42                    21657.92   \n",
       "424            3368.08                     2895.97   \n",
       "782           19286.39                        0.66   \n",
       "\n",
       "       average_monthly_balance_prevQ  average_monthly_balance_prevQ2  \\\n",
       "17084                        6724.64                         7136.06   \n",
       "14012                       23048.75                        25045.84   \n",
       "17344                       26622.51                        14133.05   \n",
       "424                          2969.17                         2262.76   \n",
       "782                          2562.23                         1101.39   \n",
       "\n",
       "       current_month_credit  previous_month_credit  current_month_debit  \\\n",
       "17084                123.47                   0.04                 0.04   \n",
       "14012                  0.06                  15.63               512.91   \n",
       "17344              37931.86                5524.07              3942.13   \n",
       "424                  351.14                   0.46                 0.46   \n",
       "782                40714.94                   0.66                 0.66   \n",
       "\n",
       "       previous_month_debit  current_month_balance  previous_month_balance  \\\n",
       "17084                  0.04                6751.12                 6729.84   \n",
       "14012                417.31               22608.42                22953.98   \n",
       "17344                 16.04               46741.13                18545.29   \n",
       "424                    0.46                3276.19                 2892.05   \n",
       "782                    0.66                7685.39                    0.66   \n",
       "\n",
       "      churn  \n",
       "17084   Yes  \n",
       "14012   Yes  \n",
       "17344   Yes  \n",
       "424     Yes  \n",
       "782     Yes  "
      ]
     },
     "execution_count": 2,
     "metadata": {},
     "output_type": "execute_result"
    }
   ],
   "source": [
    "## Read in data\n",
    "df0 = pd.read_csv('./data/visathon_train_data.csv')#,index=customer_id)\n",
    "print('Shape: {}'.format(df0.shape))\n",
    "df0.sample(5)"
   ]
  },
  {
   "cell_type": "markdown",
   "metadata": {},
   "source": [
    "### Group features"
   ]
  },
  {
   "cell_type": "code",
   "execution_count": 32,
   "metadata": {},
   "outputs": [],
   "source": [
    "depend = ['dependents']\n",
    "cat_vars = ['gender', 'occupation']#,'branch_code']\n",
    "\n",
    "nw_cat = ['customer_nw_category']\n",
    "bal_vars = ['current_balance', 'current_month_balance', \n",
    "            'previous_month_end_balance','previous_month_balance',\n",
    "            'average_monthly_balance_prevQ', 'average_monthly_balance_prevQ2']\n",
    "debit_vars = ['current_month_debit','previous_month_debit']\n",
    "credit_vars = ['current_month_credit', 'previous_month_credit']\n",
    "vin_age_vars = ['vintage', 'age']\n",
    "vin_day_vars = ['days_since_last_transaction','vintage']\n",
    "vin_dep_vars = ['dependents','vintage']\n",
    "\n",
    "target = 'churn'"
   ]
  },
  {
   "cell_type": "markdown",
   "metadata": {},
   "source": [
    "### Split data"
   ]
  },
  {
   "cell_type": "code",
   "execution_count": 4,
   "metadata": {},
   "outputs": [],
   "source": [
    "X = df0.drop(target,axis=1).copy()\n",
    "y = df0[target].copy()"
   ]
  },
  {
   "cell_type": "code",
   "execution_count": 5,
   "metadata": {},
   "outputs": [
    {
     "name": "stdout",
     "output_type": "stream",
     "text": [
      "X_train shape: (13240, 19)\n",
      "X_test shape: (4414, 19)\n",
      "y_train shape: (13240,)\n",
      "y_test shape: (4414,)\n"
     ]
    }
   ],
   "source": [
    "X_train,X_test,y_train,y_test = train_test_split(X,y,test_size=0.25, random_state=10086)\n",
    "print('X_train shape: {}\\nX_test shape: {}\\ny_train shape: {}\\ny_test shape: {}'.format( X_train.shape, X_test.shape, y_train.shape, y_test.shape))"
   ]
  },
  {
   "cell_type": "markdown",
   "metadata": {},
   "source": [
    "## Create data pipelines\n",
    "### Define custom functions\n",
    "#### 1. Impute using BaseEstimator and TransformerMixin\n",
    "These transformers have been tested, can be used in the pipelines to replace corresponding tranformers from custom functions in following section 2. They are not used in the pipeline for this project."
   ]
  },
  {
   "cell_type": "code",
   "execution_count": 6,
   "metadata": {},
   "outputs": [],
   "source": [
    "##################################################\n",
    "from sklearn.base import BaseEstimator, TransformerMixin\n",
    "\n",
    "## balance features\n",
    "class AmongFeaturesMeanImputer(BaseEstimator, TransformerMixin):\n",
    "    def __init__(self, column=[], features=[]):\n",
    "        \"\"\" column: feature to be imputed\n",
    "            features: features to for average values (can include column)\n",
    "        \"\"\"\n",
    "        self.features = features\n",
    "        self.column = column\n",
    "\n",
    "    def fit(self, X, y = None):\n",
    "        return self\n",
    "\n",
    "    def transform(self, X, y = None):\n",
    "        for feature in self.features:\n",
    "            X[feature].fillna(X[self.features].mean(axis=1,skipna=True),inplace=True)\n",
    "        return X\n",
    "\n",
    "# debit and credit features\n",
    "class FromFeatureImputer(BaseEstimator, TransformerMixin):\n",
    "    def __init__(self, features=[]):\n",
    "        \"\"\" Column: feature to be imputed\n",
    "            feature: feature to provide value\n",
    "        \"\"\"\n",
    "        self.features = features\n",
    "#         self.column = column\n",
    "\n",
    "    def fit(self, X, y = None):\n",
    "        return self\n",
    "\n",
    "    def transform(self, X, y = None):\n",
    "        print(self.features)\n",
    "        print([self.features[0]])\n",
    "        print(self.features + [self.features[0]])\n",
    "        feature_list = self.features + [self.features[0]]\n",
    "        for i, feature in enumerate(feature_list):\n",
    "            if i < len(feature_list)-1:\n",
    "                X[feature] = X[feature].fillna(X[feature_list[i+1]]*(1+np.random.randn()))\n",
    "        return X "
   ]
  },
  {
   "cell_type": "markdown",
   "metadata": {},
   "source": [
    "#### 2. Define custom functions\n",
    "##### **1) Impute and log transform**"
   ]
  },
  {
   "cell_type": "code",
   "execution_count": 36,
   "metadata": {},
   "outputs": [],
   "source": [
    "## combine non-frequent categories into one\n",
    "def combine_cat(s, cutoff=6, replace=6):\n",
    "    \"\"\" Replace the categories that are greater than or equal to the cutoff with replace\n",
    "        s: a Pandas series\n",
    "        cutoff: a scalar\n",
    "        cat: scalar\n",
    "        \n",
    "        return: a series with replaced values\n",
    "    \"\"\"\n",
    "    s_ = s.copy()\n",
    "    mask = s > cutoff\n",
    "    s_[mask==True] = replace\n",
    "    return s_\n",
    "\n",
    "# balance, debit, credit, days_since_last_transaction\n",
    "def log_transform(df):\n",
    "    \"\"\" Log transform the values in the df.\n",
    "            for values < 0, log tranform absolute value, and then reverse to negative.\n",
    "        df: a panda dataframe or array like.\n",
    "        \n",
    "        return: a pandas dataframe with log transformed values\n",
    "    \"\"\"\n",
    "    df_ = pd.DataFrame(df.copy())\n",
    "    s_= []\n",
    "    for i in range(df.shape[1]):\n",
    "        s_.append([np.log(x+1) if x>=0 else -np.log(-x+1) for x in df_.iloc[:,i]])\n",
    "    s_ = pd.DataFrame.from_records(s_).transpose()\n",
    "    return s_\n",
    "\n",
    "## balance features\n",
    "def impute_balance(df):\n",
    "    \"\"\" Fill in missing values in each column with the average value of other columns in the same row\n",
    "        df: a panda dataframe. To be imputed.\n",
    "        \n",
    "        return: a pandas dataframe without missing values\n",
    "    \"\"\"\n",
    "    s_= []\n",
    "    for i in range(df.shape[1]):\n",
    "        s = df.iloc[:,i] \n",
    "        s_.append(s.fillna(df.mean(axis=1,skipna=True)))\n",
    "    s_ = pd.DataFrame.from_records(s_).transpose()\n",
    "    return s_\n",
    "\n",
    "# debit and credit features\n",
    "def impute_credit_debit(df):\n",
    "    \"\"\" Fill in missing values in each column with the average value of other columns in the same row\n",
    "            then add some randomness to the replacement value.\n",
    "        df: a panda dataframe. To be imputed.\n",
    "        \n",
    "        return: a pandas dataframe without missing values\n",
    "    \"\"\"\n",
    "    s_= []\n",
    "    for i in range(df.shape[1]):\n",
    "        s = df.iloc[:,i] \n",
    "        s_.append(s.fillna(df.mean(axis=1)*(1+np.random.randn())))\n",
    "    s_ = pd.DataFrame.from_records(s_).transpose()\n",
    "    return s_"
   ]
  },
  {
   "cell_type": "markdown",
   "metadata": {},
   "source": [
    "##### **2) Engineer new features**"
   ]
  },
  {
   "cell_type": "code",
   "execution_count": 37,
   "metadata": {},
   "outputs": [],
   "source": [
    "## Engineer new features \n",
    "# percentage changes\n",
    "def calculate_pct_change(df):\n",
    "    \"\"\" calculate percent changes in balance between consecutive periods\n",
    "        df: Pandas dataframe or array. Balance columns of two consecutive peroids\n",
    "        \n",
    "        return: a dataframe containing percent changes with one less number of columns.\n",
    "    \"\"\"\n",
    "    df_ = pd.DataFrame(df.copy())\n",
    "    s_ = []\n",
    "    for i in range(df_.shape[1]-1):\n",
    "        s1 = df_.iloc[:,i]\n",
    "        s2 = df_.iloc[:,i+1]\n",
    "        s_.append((s1-s2)/(s2+1)*100) # s2+1 to avoid dividing-by-zero\n",
    "    df_ = pd.DataFrame.from_records(s_).transpose()\n",
    "    return df_ \n",
    "\n",
    "# vintage/(day_since_last_transaction) & per person values in a household\n",
    "def calculate_ratio(df):\n",
    "    \"\"\" calculate the ratio of two features. First column is denominator\n",
    "        df: Pandas dataframe or numpy array.\n",
    "        \n",
    "        return: a dataframe containing ratio with one less number of columns.\n",
    "    \"\"\"\n",
    "    s_ = []\n",
    "    df_ = pd.DataFrame(df.copy())\n",
    "    s1 = df_.iloc[:,0]\n",
    "    for i in range(1,df_.shape[1]):\n",
    "        s2 = df_.iloc[:,i]\n",
    "        s_.append(s2/(s1+1)) #to avoid dividing by zero\n",
    "    df_ = pd.DataFrame.from_records(s_).transpose()\n",
    "    return df_ \n",
    "\n",
    "# vintage_age score 1 - equal distance\n",
    "def calculate_vintage_age_score_eqdist(df):\n",
    "    \"\"\" Calculate vintage-age combined score with equal-distance bins (pd.cut)\n",
    "        df: an array of shape (*,2) or a dataframe\n",
    "            df.shape[0]: for vintage column\n",
    "            df.shape[1]: for age column\n",
    "        \n",
    "        return: a 2D array (shape (*,1)) withe the scores\n",
    "    \"\"\"\n",
    "    # df = df[['vintage','age']]\n",
    "    # Vintage\n",
    "    df_ = pd.DataFrame(df.copy())\n",
    "    mask = df_.iloc[:,0] >= 7000\n",
    "    df_['vintage_score'] = df_.iloc[:,0]//1000 + 1\n",
    "    df_['vintage_score'][mask] = 8\n",
    "    \n",
    "    # age\n",
    "    cut_score = [1, 2, 3, 4, 5, 6, 7, 8]\n",
    "    cut_bins = [0, 10, 19, 29, 39, 49, 59, 69, 100]\n",
    "    df_['age_score'] = pd.cut(df_.iloc[:,1], bins=cut_bins, labels=cut_score).astype(int)\n",
    "    df_['vintage_age_score'] = df_['vintage_score'] * df_['age_score']\n",
    "    # return 2D arrage required\n",
    "    return df_['vintage_age_score'].values.reshape(-1,1)\n",
    "\n",
    "# vintage_age score 2 - equal population\n",
    "def calculate_vintage_age_score_eqdens(df):\n",
    "    \"\"\" Calculate vintage-age combined score with equal-population bins (pd.qcut)\n",
    "        df: an array of shape (*,2) or a dataframe\n",
    "            df.shape[0]: for vintage column\n",
    "            df.shape[1]: for age column\n",
    "        \n",
    "        return: a 2D array (shape (*,1)) withe the scores\n",
    "    \"\"\"\n",
    "    # df = df[['vintage','age']]\n",
    "    df_ = pd.DataFrame(df.copy())\n",
    "    cut_score = [1, 2, 3, 4, 5, 6, 7, 8]\n",
    "    df_['vintage_score'] = pd.qcut(df_.iloc[:,0], q=8, labels=cut_score).astype(int)\n",
    "    df_['age_score'] = pd.qcut(df_.iloc[:,1], q=8, labels=cut_score).astype(int)\n",
    "    df_['vintage_age_score'] = df_['vintage_score'] * df_['age_score']\n",
    "    # return 2D arrage required\n",
    "    return df_['vintage_age_score'].values.reshape(-1,1)"
   ]
  },
  {
   "cell_type": "markdown",
   "metadata": {},
   "source": [
    "### Make pipelines"
   ]
  },
  {
   "cell_type": "code",
   "execution_count": 38,
   "metadata": {},
   "outputs": [],
   "source": [
    "# Original features\n",
    "comb_cat_depend = FunctionTransformer(func=combine_cat, kw_args={'cutoff':6, 'replace':6}, validate=False)\n",
    "log_tsfm = FunctionTransformer(func=log_transform)\n",
    "impute_crdt_dbt = FunctionTransformer(func=impute_credit_debit)\n",
    "impute_bal = FunctionTransformer(func=impute_balance)\n",
    "\n",
    "# feature engineering\n",
    "pct_tsfm = FunctionTransformer(func=calculate_pct_change)\n",
    "ratio_tsfm = FunctionTransformer(func=calculate_ratio)\n",
    "seniority_tsfm_dist = FunctionTransformer(func=calculate_vintage_age_score_eqdist)\n",
    "seniority_tsfm_dens= FunctionTransformer(func=calculate_vintage_age_score_eqdens)"
   ]
  },
  {
   "cell_type": "code",
   "execution_count": 39,
   "metadata": {},
   "outputs": [],
   "source": [
    "pipe_depend = Pipeline([('comb_depend',comb_cat_depend),\n",
    "                        ('imput_depend',SimpleImputer(strategy='constant',fill_value=1000)),\n",
    "                        ('ohe_depend',OneHotEncoder(handle_unknown='ignore',sparse=False))\n",
    "                       ])\n",
    "pipe_cat = Pipeline([('imput_cat',SimpleImputer(strategy='constant',fill_value='other')),\n",
    "                     ('ohe_cat',OneHotEncoder(handle_unknown='ignore',sparse=False))])\n",
    "# num_vars\n",
    "pipe_vin_age = Pipeline([('imput_base',SimpleImputer(strategy='median')),\n",
    "                      ('scal_base',StandardScaler()) ]) # vintage, age\n",
    "pipe_days_br = Pipeline([('imput_days_br',SimpleImputer(strategy='median')),\n",
    "                     ('log_days_br',log_tsfm),\n",
    "#                      ('scal_days_br',StandardScaler())\n",
    "                        ]) # days_since_last_transaction\n",
    "pipe_bal = Pipeline([('imput_bal',impute_bal),#AmongFeaturesMeanImputer(features=bal_vars)),\n",
    "                     ('log_bal',log_tsfm),\n",
    "                     ('scal_bal',StandardScaler())\n",
    "                    ])\n",
    "pipe_credit = Pipeline([('imput_credit', impute_crdt_dbt), #AmongFeaturesMeanImputer(features=credit_vars)),\n",
    "                     ('log_credit',log_tsfm),\n",
    "                     ('scal_credit',StandardScaler())]) # credit columns\n",
    "pipe_debit = Pipeline([('imput_debit',impute_crdt_dbt),\n",
    "                     ('log_debit',log_tsfm),\n",
    "                     ('scal_debit',StandardScaler())]) # debit columns\n",
    "# feature engineering\n",
    "pipe_pct = Pipeline([('imput_bal_pct', impute_bal), #AmongFeaturesMeanImputer(features=bal_vars)),\n",
    "                     ('pct_chg',pct_tsfm),\n",
    "                     ('log_bal_pct',log_tsfm),\n",
    "                     ('scal_bal_pct',StandardScaler()) \n",
    "                    ]) # consecutive balance percent change\n",
    "pipe_vin_days = Pipeline([('imput_vinday',SimpleImputer(strategy='median')),\n",
    "                          ('ratio_vinday',ratio_tsfm), # df['days_since_last_transactio','vintage']\n",
    "                          ('scal_vinday',StandardScaler())\n",
    "                         ]) # vintage per days_since_last_transaction\n",
    "pipe_bal_person = Pipeline([('imput_bal_pers', impute_bal), #AmongFeaturesMeanImputer(features=bal_vars)),\n",
    "                            ('ratio_bal_pers',ratio_tsfm), # df['dependents',balance columns]\n",
    "                            ('log_bal_pers',log_tsfm),\n",
    "                            ('scal_bal_pers',StandardScaler()) \n",
    "                           ]) # balance per person\n",
    "pipe_credit_person = Pipeline([('imput_credit_pers', impute_crdt_dbt), #AmongFeaturesMeanImputer(features=credit_vars)),\n",
    "                               ('ratio_credit_pers',ratio_tsfm), # df['dependents',credit columns]\n",
    "                               ('log_credit_pers',log_tsfm),\n",
    "                               ('scal_credit_pers',StandardScaler())]) # credit per person\n",
    "pipe_debit_person = Pipeline([('imput_debit',impute_crdt_dbt),\n",
    "                              ('ratio_debit_pers',ratio_tsfm), # df['dependents', debit columns]\n",
    "                              ('log_debit_pers',log_tsfm),\n",
    "                              ('scal_debit_pers',StandardScaler())]) # debit per person\n",
    "pipe_seniority = Pipeline([('imput_vinage',SimpleImputer(strategy='median')),                      \n",
    "                           ('sr_tsfm', seniority_tsfm_dens),\n",
    "                           ('scal_vinage',StandardScaler()) \n",
    "                          ]) # vintage, age]) "
   ]
  },
  {
   "cell_type": "code",
   "execution_count": 40,
   "metadata": {},
   "outputs": [],
   "source": [
    "nw_categories = [['Low','Medium','High']]\n",
    "pipeline_data = ColumnTransformer([\n",
    "            # categorical vars\n",
    "           ('depend', pipe_depend, depend), # 7 cols\n",
    "           ('cat_vars', pipe_cat, cat_vars), # 8 colc\n",
    "           ('ode_nw', OrdinalEncoder(categories=nw_categories), nw_cat), # 1 col\n",
    "           # numeric vars\n",
    "           ('vin_age', pipe_vin_age, vin_age_vars), # 2 cols\n",
    "           ('days_br', pipe_days_br, ['days_since_last_transaction','branch_code']), # 2 col\n",
    "           ('num_bal', pipe_bal, bal_vars), # 6 cols\n",
    "           ('num_debit', pipe_debit, debit_vars), # 2 cols\n",
    "           ('num_credit', pipe_credit, credit_vars), # 2 cols\n",
    "           # engineered features\n",
    "           ('eng_pct', pipe_pct, bal_vars), # 5 cols\n",
    "           ('eng_vinday', pipe_vin_days, vin_day_vars), # 1 cols\n",
    "           ('eng_balpers', pipe_bal_person, depend+bal_vars), # 6 cols\n",
    "           ('eng_crdpers', pipe_credit_person, depend+credit_vars), # 2 cols\n",
    "           ('eng_dbtpers', pipe_debit_person, depend+debit_vars), # 2 cols\n",
    "           ('eng_srscore', pipe_seniority, vin_age_vars) #[vintage, age] # 1 cols\n",
    "  ]) #totla cols = 47"
   ]
  },
  {
   "cell_type": "markdown",
   "metadata": {},
   "source": [
    "### Apply pipelines"
   ]
  },
  {
   "cell_type": "code",
   "execution_count": 42,
   "metadata": {},
   "outputs": [],
   "source": [
    "pipeline_data.fit(X_train)\n",
    "joblib.dump(pipeline_data, 'pipeline_data.joblib')\n",
    "# pipeline_data = joblib.load('pipeline_data.joblib')"
   ]
  },
  {
   "cell_type": "code",
   "execution_count": 71,
   "metadata": {},
   "outputs": [
    {
     "data": {
      "text/plain": [
       "((13240, 47), (4414, 47))"
      ]
     },
     "execution_count": 71,
     "metadata": {},
     "output_type": "execute_result"
    }
   ],
   "source": [
    "X_train_transformed = pipeline_data.transform(X_train)\n",
    "X_test_transformed = pipeline_data.transform(X_test)\n",
    "X_train_transformed.shape, X_test_transformed.shape"
   ]
  },
  {
   "cell_type": "markdown",
   "metadata": {},
   "source": [
    "Once the data sets are transformed, the next step is to use the transformed data to train models."
   ]
  },
  {
   "cell_type": "markdown",
   "metadata": {},
   "source": [
    "## Train classification models\n",
    "This section we will look at screen various classification algorithms to select a few promising candidates for further tuning."
   ]
  },
  {
   "cell_type": "markdown",
   "metadata": {},
   "source": [
    "### Model set 1\n",
    "This model set includes 9 scikit-learn classification algorithms (excluding those from ensemble family). The classification algorithms from the ensumble family will be discussed in ***Model set 2*** section."
   ]
  },
  {
   "cell_type": "markdown",
   "metadata": {},
   "source": [
    "#### 1. Select candidate models"
   ]
  },
  {
   "cell_type": "code",
   "execution_count": 50,
   "metadata": {},
   "outputs": [],
   "source": [
    "# Classifiers\n",
    "from sklearn.neighbors import KNeighborsClassifier\n",
    "from sklearn.tree import DecisionTreeClassifier\n",
    "from sklearn.linear_model import LogisticRegression\n",
    "from sklearn.neural_network import MLPClassifier\n",
    "from sklearn.svm import SVC\n",
    "from sklearn.gaussian_process import GaussianProcessClassifier\n",
    "from sklearn.gaussian_process.kernels import RBF\n",
    "from sklearn.ensemble import RandomForestClassifier, AdaBoostClassifier\n",
    "from sklearn.naive_bayes import GaussianNB\n",
    "from sklearn.discriminant_analysis import QuadraticDiscriminantAnalysis\n",
    "\n",
    "# Model seclection\n",
    "from sklearn.model_selection import RandomizedSearchCV\n",
    "from scipy.stats import loguniform, randint\n",
    "\n",
    "# Model evaluation\n",
    "from sklearn.metrics import roc_auc_score, roc_curve\n",
    "\n",
    "from time import time"
   ]
  },
  {
   "cell_type": "code",
   "execution_count": 18,
   "metadata": {},
   "outputs": [],
   "source": [
    "names = [\n",
    "    \"K Nearest Neighbors\",\n",
    "    \"Logistic Regression\",\n",
    "    \"Linear SVM\",\n",
    "    \"RBF SVM\",\n",
    "    \"Decision Tree\",\n",
    "    \"Neural Net\",\n",
    "    \"Naive Bayes\",\n",
    "    \"Quadratic Discriminant Analysis\",\n",
    "    \"Gaussian Process\",\n",
    "]\n",
    "\n",
    "classifiers = [\n",
    "    KNeighborsClassifier(3),\n",
    "    LogisticRegression(max_iter=500, n_jobs=-1, random_state=15611),\n",
    "    SVC(kernel=\"linear\", C=0.025, probability=True, random_state=15611),\n",
    "    SVC(gamma=2, C=1, probability=True, random_state=15611),\n",
    "    DecisionTreeClassifier(max_depth=5, random_state=15611),\n",
    "    MLPClassifier(alpha=1, max_iter=1000, random_state=15611),\n",
    "    GaussianNB(),\n",
    "    QuadraticDiscriminantAnalysis(),\n",
    "    GaussianProcessClassifier(1.0 * RBF(1.0), random_state=15611),\n",
    "]"
   ]
  },
  {
   "cell_type": "code",
   "execution_count": 19,
   "metadata": {},
   "outputs": [
    {
     "name": "stdout",
     "output_type": "stream",
     "text": [
      "Fitting: K Nearest Neighbors\n",
      "K Nearest Neighbors has a roc_auc score: 0.6986985892675712\n",
      "Time elapsed: 0.05 minutes for model \"K Nearest Neighbors\"\n",
      "\n",
      "Fitting: Logistic Regression\n",
      "Logistic Regression has a roc_auc score: 0.820827230786587\n",
      "Time elapsed: 0.07 minutes for model \"Logistic Regression\"\n",
      "\n",
      "Fitting: Linear SVM\n",
      "Linear SVM has a roc_auc score: 0.8119037849267844\n",
      "Time elapsed: 0.33 minutes for model \"Linear SVM\"\n",
      "\n",
      "Fitting: RBF SVM\n",
      "RBF SVM has a roc_auc score: 0.6937902614169622\n",
      "Time elapsed: 2.21 minutes for model \"RBF SVM\"\n",
      "\n",
      "Fitting: Decision Tree\n",
      "Decision Tree has a roc_auc score: 0.7884593561234959\n",
      "Time elapsed: 0.0 minutes for model \"Decision Tree\"\n",
      "\n",
      "Fitting: Neural Net\n",
      "Neural Net has a roc_auc score: 0.8367778819412206\n",
      "Time elapsed: 0.11 minutes for model \"Neural Net\"\n",
      "\n",
      "Fitting: Naive Bayes\n",
      "Naive Bayes has a roc_auc score: 0.7619903603888725\n",
      "Time elapsed: 0.0 minutes for model \"Naive Bayes\"\n",
      "\n",
      "Fitting: Quadratic Discriminant Analysis\n",
      "Quadratic Discriminant Analysis has a roc_auc score: 0.7313470063659505\n",
      "Time elapsed: 0.0 minutes for model \"Quadratic Discriminant Analysis\"\n",
      "\n",
      "Fitting: Gaussian Process\n"
     ]
    },
    {
     "name": "stderr",
     "output_type": "stream",
     "text": [
      "C:\\Users\\tessi\\anaconda3\\lib\\site-packages\\sklearn\\discriminant_analysis.py:715: UserWarning: Variables are collinear\n",
      "  warnings.warn(\"Variables are collinear\")\n"
     ]
    },
    {
     "name": "stdout",
     "output_type": "stream",
     "text": [
      "Gaussian Process has a roc_auc score: 0.8369046751415109\n",
      "Time elapsed: 151.12 minutes for model \"Gaussian Process\"\n",
      "\n"
     ]
    }
   ],
   "source": [
    "# iterate over classifiers\n",
    "\n",
    "score = {}\n",
    "model = {}\n",
    "for name, clf in zip(names, classifiers):\n",
    "    start = time()   \n",
    "    print(\"Fitting: {}\".format(name))\n",
    "    clf.fit(X_train_transformed, y_train)\n",
    "    pred_proba = clf.predict_proba(X_test_transformed)\n",
    "    roc_auc = roc_auc_score(y_test, pred_proba[:,1])\n",
    "    score[name] = roc_auc\n",
    "    model[name] = clf\n",
    "    print(\"{} has a roc_auc score: {}\".format(name, roc_auc))\n",
    "    print(f'Time elapsed: {round((time()-start)/60,2)} minutes for model \"{name}\"\\n')\n",
    "    joblib.dump(clf, 'screening - ' + name +'.joblib')\n"
   ]
  },
  {
   "cell_type": "code",
   "execution_count": 30,
   "metadata": {},
   "outputs": [
    {
     "data": {
      "text/plain": [
       "['sccreening - results all models.joblib']"
      ]
     },
     "execution_count": 30,
     "metadata": {},
     "output_type": "execute_result"
    }
   ],
   "source": [
    "screening_results = {'score':score,'model': model}\n",
    "joblib.dump(screening_results, 'sccreening - results all models.joblib')"
   ]
  },
  {
   "cell_type": "markdown",
   "metadata": {},
   "source": [
    "The screening of the models indicated that 3 models, i.e., ***LogigsticRegression, Neural Network (MLPClassifier), and GaussianProcessClassifier)***, have ***over 0.82*** roc_auc scores. <br>\n",
    "Since the GaussianProcessClassifier is already hyperparameter optimized for the kernel and none of the other parameters are to be tuned, we will use the result from this stage as the best estimator. <br>\n",
    "Therefore, the next step is to further tune the remaining two models to select the best models and parameters for this dataset."
   ]
  },
  {
   "cell_type": "markdown",
   "metadata": {},
   "source": [
    "#### 2. Tune Hyperparameters of candiate models\n",
    "We will tune the hyparameters using ***RandomSearchCV*** from scikit learn's model_selection module. Parameter distribution will be using the ***loguniform and randint*** distribution from scipy's stats module. Thes distributions generate a continuous range of floates and integers, repectively, for the hyperparameters of interest. We will use two sets of parameter spaces to tune the selected candidate models."
   ]
  },
  {
   "cell_type": "markdown",
   "metadata": {},
   "source": [
    "##### **Hyperparameter tuning version 1**\n",
    "##### *1) Randomized Search CV*"
   ]
  },
  {
   "cell_type": "code",
   "execution_count": 101,
   "metadata": {},
   "outputs": [
    {
     "name": "stdout",
     "output_type": "stream",
     "text": [
      "Fitting 5 folds for each of 100 candidates, totalling 500 fits\n"
     ]
    },
    {
     "name": "stderr",
     "output_type": "stream",
     "text": [
      "[Parallel(n_jobs=-1)]: Using backend LokyBackend with 8 concurrent workers.\n",
      "[Parallel(n_jobs=-1)]: Done  34 tasks      | elapsed:   25.5s\n",
      "[Parallel(n_jobs=-1)]: Done 184 tasks      | elapsed:  4.3min\n",
      "[Parallel(n_jobs=-1)]: Done 434 tasks      | elapsed:  9.2min\n",
      "[Parallel(n_jobs=-1)]: Done 500 out of 500 | elapsed: 10.0min finished\n"
     ]
    },
    {
     "name": "stdout",
     "output_type": "stream",
     "text": [
      "Time elapsed: 10.13 minutes\n"
     ]
    }
   ],
   "source": [
    "## create a pipeline\n",
    "pipe_clf = Pipeline([('classifier',LogisticRegression())])\n",
    "\n",
    "## Create dictionary with candidate learning algorithms and their hyperparameters\n",
    "param_space =  [{\"classifier\": [LogisticRegression(random_state=15611)],\n",
    "                 'classifier__penalty': ['l1','l2'],\n",
    "                 'classifier__solver': ['liblinear'],\n",
    "                 'classifier__C': loguniform(0.0001, 100),\n",
    "                 'classifier__max_iter': randint(200, 600),\n",
    "                },\n",
    "                {\"classifier\": [LogisticRegression(random_state=15611)],\n",
    "                 'classifier__penalty': ['l2'],\n",
    "                 'classifier__solver': ['lbfgs','sag'],\n",
    "                 'classifier__C': loguniform(0.0001, 100),\n",
    "                 'classifier__max_iter': randint(200, 600),\n",
    "                },\n",
    "                {\"classifier\": [MLPClassifier(random_state=15611)],\n",
    "                 'classifier__activation':['tanh','relu'],\n",
    "                 'classifier__hidden_layer_sizes': randint(5,100),\n",
    "                 'classifier__learning_rate': ['constant','invscaling'],\n",
    "                 'classifier__max_iter': randint(200,600),\n",
    "                 'classifier__solver': ['adam','sgd'],\n",
    "                 'classifier__alpha':loguniform(0.0001,1),\n",
    "                },]\n",
    "\n",
    "# Parameter tuning\n",
    "start = time()\n",
    "clf_randsearchcv_v1 = RandomizedSearchCV(estimator = pipe_clf, \n",
    "                                      param_distributions=param_space, \n",
    "                                      scoring='roc_auc',\n",
    "                                      n_iter=100,\n",
    "                                      cv=5, \n",
    "                                      verbose=1,\n",
    "                                      n_jobs=-1\n",
    "                                      )\n",
    "clf_randsearchcv_v1.fit(X_train_transformed, y_train)\n",
    "print(f'Time elapsed: {round((time()-start)/60,2)} minutes')\n",
    "# joblib.dump(clf_randsearchcv_v1,'clf_randsearchcv_v1.joblib')"
   ]
  },
  {
   "cell_type": "code",
   "execution_count": null,
   "metadata": {},
   "outputs": [],
   "source": [
    "# load the save search result\n",
    "# clf_randsearchcv_v1 = joblib.load('clf_randsearchcv_v1.joblib')"
   ]
  },
  {
   "cell_type": "markdown",
   "metadata": {},
   "source": [
    "##### *2) Best estimator*"
   ]
  },
  {
   "cell_type": "code",
   "execution_count": 88,
   "metadata": {},
   "outputs": [
    {
     "name": "stdout",
     "output_type": "stream",
     "text": [
      "Best roc_auc Score: 0.8379\n",
      "Best model and parameters:\n"
     ]
    },
    {
     "data": {
      "text/plain": [
       "{'classifier': MLPClassifier(activation='tanh', alpha=0.38935258508469467,\n",
       "               hidden_layer_sizes=28, learning_rate='invscaling', max_iter=201,\n",
       "               random_state=15611),\n",
       " 'classifier__activation': 'tanh',\n",
       " 'classifier__alpha': 0.38935258508469467,\n",
       " 'classifier__hidden_layer_sizes': 28,\n",
       " 'classifier__learning_rate': 'invscaling',\n",
       " 'classifier__max_iter': 201,\n",
       " 'classifier__solver': 'adam'}"
      ]
     },
     "execution_count": 88,
     "metadata": {},
     "output_type": "execute_result"
    }
   ],
   "source": [
    "print(f'Best roc_auc Score: {round(clf_randsearchcv_v1.best_score_,4)}')\n",
    "print('Best model and parameters:')\n",
    "clf_randsearchcv_v1.best_params_"
   ]
  },
  {
   "cell_type": "code",
   "execution_count": 159,
   "metadata": {},
   "outputs": [
    {
     "name": "stdout",
     "output_type": "stream",
     "text": [
      "Number of layers in the neural network = 3\n"
     ]
    }
   ],
   "source": [
    "# number of layers in the neural network:\n",
    "print('Number of layers in the neural network = {}'.format(clf_randsearchcv_v1.best_estimator_['classifier'].n_layers_))"
   ]
  },
  {
   "cell_type": "code",
   "execution_count": 137,
   "metadata": {},
   "outputs": [
    {
     "name": "stdout",
     "output_type": "stream",
     "text": [
      "Mean cv scores - Highest: 0.8379093513430848 from param combination [3]\n",
      "Mean cv scores - each parameter and model combination:\n"
     ]
    },
    {
     "data": {
      "text/plain": [
       "array([0.82151629, 0.79684885, 0.81794237, 0.83790935, 0.82088359,\n",
       "       0.82174965, 0.65494711, 0.83362775, 0.73170616, 0.81984577,\n",
       "       0.83474748, 0.82129171, 0.82146317, 0.82064821, 0.75367458,\n",
       "       0.73709169, 0.82191399, 0.82149625, 0.80168914, 0.83367901,\n",
       "       0.82030039, 0.83663627, 0.77737538, 0.82194929, 0.82045501,\n",
       "       0.8204836 , 0.80535238, 0.77609111, 0.82186502, 0.81848811,\n",
       "       0.7699744 , 0.8207042 , 0.82135922, 0.79318678, 0.80418998,\n",
       "       0.8203969 , 0.81810913, 0.82069966, 0.820655  , 0.48021626,\n",
       "       0.82986912, 0.82145906, 0.82115763, 0.80329084, 0.61577944,\n",
       "       0.82112491, 0.81357035, 0.83236597, 0.68214409, 0.67142501,\n",
       "       0.81148789, 0.82088267, 0.83311285, 0.65881501, 0.82989067,\n",
       "       0.81364233, 0.81809315, 0.81604758, 0.83502415, 0.82087179,\n",
       "       0.83214886, 0.82193238, 0.8317863 , 0.54567031, 0.82170219,\n",
       "       0.83106641, 0.83138798, 0.82138013, 0.79364219, 0.77980652,\n",
       "       0.83355872, 0.82108719, 0.81368765, 0.83146683, 0.82142456,\n",
       "       0.79424253, 0.82114349, 0.80211575, 0.82016456, 0.81855244,\n",
       "       0.81990524, 0.83573242, 0.77000483, 0.80704363, 0.82870513,\n",
       "       0.82194055, 0.80198833, 0.82192586, 0.83766865, 0.81957437,\n",
       "       0.82186617, 0.8081798 , 0.83304019, 0.78720218, 0.81746311,\n",
       "       0.82081853, 0.82105495, 0.81909341, 0.80942779, 0.59372856])"
      ]
     },
     "execution_count": 137,
     "metadata": {},
     "output_type": "execute_result"
    }
   ],
   "source": [
    "print(f\"Mean cv scores - Highest: {clf_randsearchcv_v1.cv_results_['mean_test_score'].max()} \\\n",
    "from param combination {np.where(clf_randsearchcv_v1.cv_results_['mean_test_score'] == clf_randsearchcv_v1.cv_results_['mean_test_score'].max())[0]}\")\n",
    "\n",
    "print('Mean cv scores - each parameter and model combination:')\n",
    "clf_randsearchcv_v1.cv_results_['mean_test_score']"
   ]
  },
  {
   "cell_type": "markdown",
   "metadata": {},
   "source": [
    "##### *3) Best prediction accuracy*"
   ]
  },
  {
   "cell_type": "code",
   "execution_count": 89,
   "metadata": {},
   "outputs": [
    {
     "name": "stdout",
     "output_type": "stream",
     "text": [
      "Prediction score with the best model: 0.8394\n"
     ]
    }
   ],
   "source": [
    "# Best prediction score\n",
    "clf_nn_v1_pred_proba = clf_randsearchcv_v1.best_estimator_.predict_proba(X_test_transformed)\n",
    "clf_nn_v1_roc_auc = roc_auc_score(y_test, clf_nn_v1_pred_proba[:,1])\n",
    "print(f'Prediction score with the best model: {round(clf_nn_v1_roc_auc,4)}')"
   ]
  },
  {
   "cell_type": "markdown",
   "metadata": {},
   "source": [
    "##### **Hyperparameter tuning version 2**\n",
    "##### *1) Random Search CV*"
   ]
  },
  {
   "cell_type": "code",
   "execution_count": 95,
   "metadata": {},
   "outputs": [
    {
     "name": "stdout",
     "output_type": "stream",
     "text": [
      "Fitting 5 folds for each of 50 candidates, totalling 250 fits\n"
     ]
    },
    {
     "name": "stderr",
     "output_type": "stream",
     "text": [
      "[Parallel(n_jobs=-1)]: Using backend LokyBackend with 8 concurrent workers.\n",
      "[Parallel(n_jobs=-1)]: Done  34 tasks      | elapsed:   55.7s\n",
      "[Parallel(n_jobs=-1)]: Done 184 tasks      | elapsed:  2.9min\n",
      "[Parallel(n_jobs=-1)]: Done 250 out of 250 | elapsed:  4.7min finished\n"
     ]
    },
    {
     "name": "stdout",
     "output_type": "stream",
     "text": [
      "Time elapsed: 4.9 minutes\n"
     ]
    }
   ],
   "source": [
    "## create a pipeline\n",
    "pipe_clf = Pipeline([('classifier',LogisticRegression())])\n",
    "\n",
    "## Create dictionary with candidate learning algorithms and their hyperparameters\n",
    "param_space =  [{\"classifier\": [LogisticRegression(random_state=15611, max_iter=200)],\n",
    "                 'classifier__penalty': ['l1','l2'],\n",
    "                 'classifier__solver': ['liblinear'],\n",
    "                 'classifier__C': loguniform(0.0001, 100),\n",
    "                },\n",
    "                {\"classifier\": [LogisticRegression(random_state=15611, max_iter=200)],\n",
    "                 'classifier__penalty': ['l2'],\n",
    "                 'classifier__solver': ['lbfgs','sag'],\n",
    "                 'classifier__C': loguniform(0.0001, 100),\n",
    "                },\n",
    "                {\"classifier\": [MLPClassifier(random_state=15611)],\n",
    "                 'classifier__activation':['tanh','relu'],\n",
    "                 'classifier__learning_rate': ['constant','invscaling'],\n",
    "                 'classifier__solver': ['adam','sgd'],\n",
    "                 'classifier__alpha':loguniform(0.0001,1),\n",
    "                },]\n",
    "\n",
    "# Parameter tuning\n",
    "start = time()\n",
    "clf_randsearchcv_v2 = RandomizedSearchCV(estimator = pipe_clf, \n",
    "                                      param_distributions=param_space, \n",
    "                                      scoring='roc_auc',\n",
    "                                      n_iter=50,\n",
    "                                      cv=5, \n",
    "                                      verbose=1,\n",
    "                                      n_jobs=-1\n",
    "                                      )\n",
    "clf_randsearchcv_v2.fit(X_train_transformed, y_train)\n",
    "print(f'Time elapsed: {round((time()-start)/60,2)} minutes')\n"
   ]
  },
  {
   "cell_type": "code",
   "execution_count": 47,
   "metadata": {},
   "outputs": [],
   "source": [
    "# joblib.dump(clf_randsearchcv_v2,'clf_randsearchcv_v1.joblib')\n",
    "clf_randsearchcv_v2 = joblib.load('clf_randsearchcv_v2.joblib')"
   ]
  },
  {
   "cell_type": "markdown",
   "metadata": {},
   "source": [
    "##### *2) Best estimator*"
   ]
  },
  {
   "cell_type": "code",
   "execution_count": 85,
   "metadata": {},
   "outputs": [
    {
     "name": "stdout",
     "output_type": "stream",
     "text": [
      "Best SearchCV_v2 score: 0.839103115105563\n"
     ]
    },
    {
     "data": {
      "text/plain": [
       "{'classifier': MLPClassifier(activation='tanh', alpha=0.4478425726391438, random_state=15611),\n",
       " 'classifier__activation': 'tanh',\n",
       " 'classifier__alpha': 0.4478425726391438,\n",
       " 'classifier__learning_rate': 'constant',\n",
       " 'classifier__solver': 'adam'}"
      ]
     },
     "execution_count": 85,
     "metadata": {},
     "output_type": "execute_result"
    }
   ],
   "source": [
    "print(f'Best SearchCV_v2 score: {clf_randsearchcv_v2.best_score_}')\n",
    "clf_randsearchcv_v2.best_params_"
   ]
  },
  {
   "cell_type": "code",
   "execution_count": 158,
   "metadata": {},
   "outputs": [
    {
     "name": "stdout",
     "output_type": "stream",
     "text": [
      "Number of layers in the neural network = 3\n"
     ]
    }
   ],
   "source": [
    "# number of layers in the neural network:\n",
    "print('Number of layers in the neural network = {}'.format(clf_randsearchcv_v2.best_estimator_['classifier'].n_layers_))"
   ]
  },
  {
   "cell_type": "code",
   "execution_count": 140,
   "metadata": {},
   "outputs": [
    {
     "name": "stdout",
     "output_type": "stream",
     "text": [
      "Mean cv scores - Highest: 0.839103115105563 from param combination [41]\n",
      "Mean cv scores:\n"
     ]
    },
    {
     "data": {
      "text/plain": [
       "array([0.66425661, 0.8209059 , 0.82913114, 0.82100155, 0.83592013,\n",
       "       0.81586767, 0.83591262, 0.82087429, 0.81268031, 0.7919965 ,\n",
       "       0.81123339, 0.82035047, 0.80174231, 0.82167036, 0.82176002,\n",
       "       0.82179371, 0.68246772, 0.82122198, 0.82119354, 0.76509826,\n",
       "       0.81389326, 0.82173856, 0.81001897, 0.82147313, 0.8211714 ,\n",
       "       0.82164016, 0.83228349, 0.82096345, 0.82111813, 0.79507499,\n",
       "       0.8058042 , 0.81480261, 0.83229064, 0.81800025, 0.82136718,\n",
       "       0.48169423, 0.80310711, 0.81521753, 0.48021626, 0.8161643 ,\n",
       "       0.69474344, 0.83910312, 0.77793357, 0.69476292, 0.80344506,\n",
       "       0.82117406, 0.66424177, 0.80677766, 0.81221626, 0.79285558])"
      ]
     },
     "execution_count": 140,
     "metadata": {},
     "output_type": "execute_result"
    }
   ],
   "source": [
    "print(f\"Mean cv scores - Highest: {clf_randsearchcv_v2.cv_results_['mean_test_score'].max()} \\\n",
    "from param combination {np.where(clf_randsearchcv_v2.cv_results_['mean_test_score'] == clf_randsearchcv_v2.cv_results_['mean_test_score'].max())[0]}\")\n",
    "\n",
    "print('Mean cv scores:')\n",
    "clf_randsearchcv_v2.cv_results_['mean_test_score']"
   ]
  },
  {
   "cell_type": "markdown",
   "metadata": {},
   "source": [
    "##### *3) Best prediction accuracy*"
   ]
  },
  {
   "cell_type": "code",
   "execution_count": 141,
   "metadata": {},
   "outputs": [
    {
     "data": {
      "text/plain": [
       "0.8392774717768654"
      ]
     },
     "execution_count": 141,
     "metadata": {},
     "output_type": "execute_result"
    }
   ],
   "source": [
    "# Best prediction score\n",
    "clf_nn_v2_pred_proba = clf_randsearchcv_v2.best_estimator_.predict_proba(X_test_transformed)\n",
    "clf_nn_v2_roc_auc = roc_auc_score(y_test, clf_nn_v2_pred_proba[:,1])\n",
    "clf_nn_v2_roc_auc"
   ]
  },
  {
   "cell_type": "markdown",
   "metadata": {},
   "source": [
    "### Model set 2\n",
    "This model set includes 9 scikit-learn classification algorithms (excluding those from ensemble family). The classification algorithms from the ensumble family will be discussed in ***Model set 2*** section."
   ]
  },
  {
   "cell_type": "code",
   "execution_count": 50,
   "metadata": {},
   "outputs": [],
   "source": [
    "# Classifiers\n",
    "from sklearn.tree import DecisionTreeClassifier\n",
    "\n",
    "from sklearn.ensemble import RandomForestClassifier, AdaBoostClassifier\n",
    "\n",
    "# Model selection\n",
    "from sklearn.model_selection import RandomizedSearchCV\n",
    "from scipy.stats import loguniform, randint\n",
    "\n",
    "# Model Evaluation\n",
    "from sklearn.metrics import roc_auc_score, roc_curve\n",
    "\n",
    "from time import time"
   ]
  },
  {
   "cell_type": "code",
   "execution_count": null,
   "metadata": {},
   "outputs": [],
   "source": []
  },
  {
   "cell_type": "markdown",
   "metadata": {},
   "source": [
    "## Learning curve\n",
    "This section will plot the learning curve of the best models identified in the previous section from Model sets 1 and 2."
   ]
  },
  {
   "cell_type": "code",
   "execution_count": 142,
   "metadata": {},
   "outputs": [],
   "source": [
    "# download from GitHub repository\n",
    "import requests\n",
    "# Save plot_learning_curve as file to colab working directory\n",
    "# Get the \"Raw\" version of the code from GitHub\n",
    "url = 'https://raw.githubusercontent.com/TessieTong/ds4ml/main/plot_learning_curve.py'\n",
    "r = requests.get(url)\n",
    "\n",
    "# Write to Colab working directory \n",
    "with open('plot_learning_curve.py', 'w') as f:\n",
    "    f.write(r.text)\n",
    "\n",
    "# import\n",
    "from plot_learning_curve import plot_learning_curve"
   ]
  },
  {
   "cell_type": "code",
   "execution_count": 144,
   "metadata": {},
   "outputs": [
    {
     "data": {
      "image/png": "[encoded data removed]",
      "text/plain": [
       "<Figure size 720x1080 with 6 Axes>"
      ]
     },
     "metadata": {
      "needs_background": "light"
     },
     "output_type": "display_data"
    }
   ],
   "source": [
    "# Plot learning curves of the 4 best ensemble classifiers\n",
    "from sklearn.model_selection import learning_curve\n",
    "from sklearn.model_selection import ShuffleSplit\n",
    "nrows=3\n",
    "ncols=2\n",
    "fig, axes = plt.subplots(3, 2, figsize=(ncols*5, nrows*5))\n",
    "# Cross validation with 10 iterations\n",
    "# score curves, each time with 20% data randomly selected as a validation set.\n",
    "# Here only the training set is used.\n",
    "cv = ShuffleSplit(n_splits=10, test_size=0.2, random_state=15611)\n",
    "\n",
    "title = r\"Learning Curves (MLPClassifier v1)\"\n",
    "plot_learning_curve(clf_randsearchcv_v1.best_estimator_,\n",
    "    title, X_train_transformed, y_train, \n",
    "    axes=axes[:, 0], ylim=(0.7, 1.01), cv=cv, n_jobs=-1)\n",
    "\n",
    "title = r\"Learning Curves (MLPClassifier v2)\"\n",
    "plot_learning_curve(clf_randsearchcv_v2.best_estimator_,\n",
    "    title, X_train_transformed, y_train, \n",
    "    axes=axes[:, 1], ylim=(0.7, 1.01), cv=cv, n_jobs=-1)\n",
    "\n",
    "# title = r\"Learning Curves (ExtraTree)\"\n",
    "# plot_learning_curve(xtr_rscv.best_estimator_,\n",
    "#     title, X_train_transformed, y_train, \n",
    "#     axes=axes[:, 2], ylim=(0.7, 1.01), cv=cv, n_jobs=-1)\n",
    "\n",
    "# title = r\"Learning Curves (GradientBoosting)\"\n",
    "# plot_learning_curve(gbc_rscv.best_estimator_,\n",
    "#     title, X_train_transformed, y_train, \n",
    "#     axes=axes[:, 3], ylim=(0.7, 1.01), cv=cv, n_jobs=-1)\n",
    "\n",
    "plt.tight_layout(pad=3.0)\n",
    "plt.show();"
   ]
  },
  {
   "cell_type": "markdown",
   "metadata": {},
   "source": [
    "Both models are somewhat underfitting, judging by the trend and relationship of training score and cross-validation score. Training score decreases relatively rapidly while cross-validation score clibmes slowly, with increasing the number of examples. Version 2 (v2) seems to have a better scalability, but take more fit-times to get the highest score."
   ]
  },
  {
   "cell_type": "markdown",
   "metadata": {},
   "source": [
    "## Best predictive model"
   ]
  },
  {
   "cell_type": "code",
   "execution_count": 68,
   "metadata": {},
   "outputs": [
    {
     "name": "stdout",
     "output_type": "stream",
     "text": [
      "Best prediction score v1: 0.8394\n",
      "Best prediction score v2: 0.8392\n"
     ]
    }
   ],
   "source": [
    "# Best prediction score\n",
    "clf_nn_v1_pred_proba = clf_randsearchcv_v1.best_estimator_.predict_proba(X_test_transformed)\n",
    "clf_nn_v1_roc_auc = roc_auc_score(y_test, clf_nn_v1_pred_proba[:,1])\n",
    "print(f'Best prediction score v1: {round(clf_nn_v1_roc_auc,4)}')\n",
    "clf_nn_v2_pred_proba = clf_randsearchcv_v2.best_estimator_.predict_proba(X_test_transformed)\n",
    "clf_nn_v2_roc_auc = roc_auc_score(y_test, clf_nn_v2_pred_proba[:,1])\n",
    "print(f'Best prediction score v2: {round(clf_nn_v2_roc_auc,4)}')"
   ]
  },
  {
   "cell_type": "code",
   "execution_count": 69,
   "metadata": {},
   "outputs": [
    {
     "data": {
      "text/plain": [
       "Pipeline(steps=[('classifier',\n",
       "                 MLPClassifier(activation='tanh', alpha=0.38935258508469467,\n",
       "                               hidden_layer_sizes=28,\n",
       "                               learning_rate='invscaling', max_iter=201,\n",
       "                               random_state=15611))])"
      ]
     },
     "execution_count": 69,
     "metadata": {},
     "output_type": "execute_result"
    }
   ],
   "source": [
    "clf_randsearchcv_v1.best_estimator_"
   ]
  },
  {
   "cell_type": "markdown",
   "metadata": {},
   "source": [
    "The ***best predictive model*** is the ***Multi_Layer Perceptron classifier*** from scikit learn's neural_network model, with ***\"tanh\"*** activation function, ***\"invscaling\"*** learning rate schedule, and L2 penalty regulization parameter ***alpha = 0.389***. "
   ]
  },
  {
   "cell_type": "markdown",
   "metadata": {},
   "source": [
    "## Save the best model"
   ]
  },
  {
   "cell_type": "code",
   "execution_count": 70,
   "metadata": {},
   "outputs": [
    {
     "data": {
      "text/plain": [
       "['Best churn classifier.joblib']"
      ]
     },
     "execution_count": 70,
     "metadata": {},
     "output_type": "execute_result"
    }
   ],
   "source": [
    "joblib.dump(clf_randsearchcv_v1.best_estimator_, 'Best churn classifier.joblib')"
   ]
  }
 ],
 "metadata": {
  "kernelspec": {
   "display_name": "Python 3",
   "language": "python",
   "name": "python3"
  },
  "language_info": {
   "codemirror_mode": {
    "name": "ipython",
    "version": 3
   },
   "file_extension": ".py",
   "mimetype": "text/x-python",
   "name": "python",
   "nbconvert_exporter": "python",
   "pygments_lexer": "ipython3",
   "version": "3.8.5"
  }
 },
 "nbformat": 4,
 "nbformat_minor": 4
}
