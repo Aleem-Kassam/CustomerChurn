{
 "cells": [
  {
   "cell_type": "markdown",
   "metadata": {},
   "source": [
    "# Machine learning project -- Part 3  Improve ML models performance 1)\n",
    "\n",
    "This project is to build a predictive machine learning model using the customer churn data available at Kaggle website. <br>\n",
    "Part 3 will look at training various classification models and hyperparameter tuning selected candidate models.<br>\n",
    "\n",
    "The classification algorithms to be considered:\n",
    "1. K nearest neighbours (KNN)\n",
    "2. logistic regression\n",
    "3. Decision Trees \n",
    "4. SVM linear\n",
    "5. SVM RBF\n",
    "6. Neural network (multi-layer perceptron)\n",
    "7. Guassian process\n",
    "8. Naive-Bayes (GaussianNB)\n",
    "9. Quadratic Discriminant Analysis"
   ]
  },
  {
   "cell_type": "markdown",
   "metadata": {},
   "source": [
    "## Prepare data\n",
    "### Global functions"
   ]
  },
  {
   "cell_type": "code",
   "execution_count": 1,
   "metadata": {},
   "outputs": [],
   "source": [
    "import pandas as pd\n",
    "import numpy as np\n",
    "import matplotlib.pyplot as plt\n",
    "import seaborn as sns\n",
    "\n",
    "import joblib\n",
    "from time import time\n",
    "\n",
    "from sklearn.model_selection import train_test_split\n",
    "# from sklearn.preprocessing import StandardScaler, OneHotEncoder, OrdinalEncoder, FunctionTransformer\n",
    "# from sklearn.impute import SimpleImputer\n",
    "from sklearn.pipeline import Pipeline\n",
    "# from sklearn.compose import ColumnTransformer\n",
    "\n",
    "import customfunctions"
   ]
  },
  {
   "cell_type": "markdown",
   "metadata": {},
   "source": [
    "### Read in data"
   ]
  },
  {
   "cell_type": "code",
   "execution_count": 2,
   "metadata": {},
   "outputs": [
    {
     "name": "stdout",
     "output_type": "stream",
     "text": [
      "Shape: (17654, 20)\n"
     ]
    },
    {
     "data": {
      "text/html": [
       "<div>\n",
       "<style scoped>\n",
       "    .dataframe tbody tr th:only-of-type {\n",
       "        vertical-align: middle;\n",
       "    }\n",
       "\n",
       "    .dataframe tbody tr th {\n",
       "        vertical-align: top;\n",
       "    }\n",
       "\n",
       "    .dataframe thead th {\n",
       "        text-align: right;\n",
       "    }\n",
       "</style>\n",
       "<table border=\"1\" class=\"dataframe\">\n",
       "  <thead>\n",
       "    <tr style=\"text-align: right;\">\n",
       "      <th></th>\n",
       "      <th>customer_id</th>\n",
       "      <th>vintage</th>\n",
       "      <th>age</th>\n",
       "      <th>gender</th>\n",
       "      <th>dependents</th>\n",
       "      <th>occupation</th>\n",
       "      <th>customer_nw_category</th>\n",
       "      <th>branch_code</th>\n",
       "      <th>days_since_last_transaction</th>\n",
       "      <th>current_balance</th>\n",
       "      <th>previous_month_end_balance</th>\n",
       "      <th>average_monthly_balance_prevQ</th>\n",
       "      <th>average_monthly_balance_prevQ2</th>\n",
       "      <th>current_month_credit</th>\n",
       "      <th>previous_month_credit</th>\n",
       "      <th>current_month_debit</th>\n",
       "      <th>previous_month_debit</th>\n",
       "      <th>current_month_balance</th>\n",
       "      <th>previous_month_balance</th>\n",
       "      <th>churn</th>\n",
       "    </tr>\n",
       "  </thead>\n",
       "  <tbody>\n",
       "    <tr>\n",
       "      <th>4655</th>\n",
       "      <td>6360.0</td>\n",
       "      <td>4308.0</td>\n",
       "      <td>41.0</td>\n",
       "      <td>Female</td>\n",
       "      <td>0.0</td>\n",
       "      <td>Engineer</td>\n",
       "      <td>Medium</td>\n",
       "      <td>224.0</td>\n",
       "      <td>6.0</td>\n",
       "      <td>19705.83</td>\n",
       "      <td>10118.97</td>\n",
       "      <td>11963.26</td>\n",
       "      <td>12454.59</td>\n",
       "      <td>11416.77</td>\n",
       "      <td>14310.99</td>\n",
       "      <td>2687.06</td>\n",
       "      <td>1603.47</td>\n",
       "      <td>12165.47</td>\n",
       "      <td>8832.72</td>\n",
       "      <td>Yes</td>\n",
       "    </tr>\n",
       "    <tr>\n",
       "      <th>9311</th>\n",
       "      <td>12769.0</td>\n",
       "      <td>4413.0</td>\n",
       "      <td>59.0</td>\n",
       "      <td>Female</td>\n",
       "      <td>0.0</td>\n",
       "      <td>Engineer</td>\n",
       "      <td>Low</td>\n",
       "      <td>1357.0</td>\n",
       "      <td>4.0</td>\n",
       "      <td>5293.94</td>\n",
       "      <td>4822.87</td>\n",
       "      <td>4882.39</td>\n",
       "      <td>9570.72</td>\n",
       "      <td>48.84</td>\n",
       "      <td>0.27</td>\n",
       "      <td>7.77</td>\n",
       "      <td>37.88</td>\n",
       "      <td>4913.96</td>\n",
       "      <td>4695.64</td>\n",
       "      <td>Yes</td>\n",
       "    </tr>\n",
       "    <tr>\n",
       "      <th>424</th>\n",
       "      <td>575.0</td>\n",
       "      <td>1215.0</td>\n",
       "      <td>76.0</td>\n",
       "      <td>Male</td>\n",
       "      <td>0.0</td>\n",
       "      <td>Lawyer</td>\n",
       "      <td>Low</td>\n",
       "      <td>2615.0</td>\n",
       "      <td>15.0</td>\n",
       "      <td>3368.08</td>\n",
       "      <td>2895.97</td>\n",
       "      <td>2969.17</td>\n",
       "      <td>2262.76</td>\n",
       "      <td>351.14</td>\n",
       "      <td>0.46</td>\n",
       "      <td>0.46</td>\n",
       "      <td>0.46</td>\n",
       "      <td>3276.19</td>\n",
       "      <td>2892.05</td>\n",
       "      <td>Yes</td>\n",
       "    </tr>\n",
       "    <tr>\n",
       "      <th>17281</th>\n",
       "      <td>23686.0</td>\n",
       "      <td>3086.0</td>\n",
       "      <td>52.0</td>\n",
       "      <td>Male</td>\n",
       "      <td>0.0</td>\n",
       "      <td>Accountant</td>\n",
       "      <td>Medium</td>\n",
       "      <td>1255.0</td>\n",
       "      <td>3.0</td>\n",
       "      <td>82874.14</td>\n",
       "      <td>76249.03</td>\n",
       "      <td>92174.15</td>\n",
       "      <td>170423.07</td>\n",
       "      <td>12213.66</td>\n",
       "      <td>9497.63</td>\n",
       "      <td>5641.01</td>\n",
       "      <td>5343.17</td>\n",
       "      <td>81594.96</td>\n",
       "      <td>76291.08</td>\n",
       "      <td>Yes</td>\n",
       "    </tr>\n",
       "    <tr>\n",
       "      <th>6293</th>\n",
       "      <td>8591.0</td>\n",
       "      <td>1185.0</td>\n",
       "      <td>71.0</td>\n",
       "      <td>Male</td>\n",
       "      <td>0.0</td>\n",
       "      <td>Accountant</td>\n",
       "      <td>Medium</td>\n",
       "      <td>2853.0</td>\n",
       "      <td>189.0</td>\n",
       "      <td>3520.55</td>\n",
       "      <td>2535.80</td>\n",
       "      <td>2614.42</td>\n",
       "      <td>2398.24</td>\n",
       "      <td>0.17</td>\n",
       "      <td>0.17</td>\n",
       "      <td>0.17</td>\n",
       "      <td>0.17</td>\n",
       "      <td>2774.03</td>\n",
       "      <td>2535.80</td>\n",
       "      <td>Yes</td>\n",
       "    </tr>\n",
       "  </tbody>\n",
       "</table>\n",
       "</div>"
      ],
      "text/plain": [
       "       customer_id  vintage   age  gender  dependents  occupation  \\\n",
       "4655        6360.0   4308.0  41.0  Female         0.0    Engineer   \n",
       "9311       12769.0   4413.0  59.0  Female         0.0    Engineer   \n",
       "424          575.0   1215.0  76.0    Male         0.0      Lawyer   \n",
       "17281      23686.0   3086.0  52.0    Male         0.0  Accountant   \n",
       "6293        8591.0   1185.0  71.0    Male         0.0  Accountant   \n",
       "\n",
       "      customer_nw_category  branch_code  days_since_last_transaction  \\\n",
       "4655                Medium        224.0                          6.0   \n",
       "9311                   Low       1357.0                          4.0   \n",
       "424                    Low       2615.0                         15.0   \n",
       "17281               Medium       1255.0                          3.0   \n",
       "6293                Medium       2853.0                        189.0   \n",
       "\n",
       "       current_balance  previous_month_end_balance  \\\n",
       "4655          19705.83                    10118.97   \n",
       "9311           5293.94                     4822.87   \n",
       "424            3368.08                     2895.97   \n",
       "17281         82874.14                    76249.03   \n",
       "6293           3520.55                     2535.80   \n",
       "\n",
       "       average_monthly_balance_prevQ  average_monthly_balance_prevQ2  \\\n",
       "4655                        11963.26                        12454.59   \n",
       "9311                         4882.39                         9570.72   \n",
       "424                          2969.17                         2262.76   \n",
       "17281                       92174.15                       170423.07   \n",
       "6293                         2614.42                         2398.24   \n",
       "\n",
       "       current_month_credit  previous_month_credit  current_month_debit  \\\n",
       "4655               11416.77               14310.99              2687.06   \n",
       "9311                  48.84                   0.27                 7.77   \n",
       "424                  351.14                   0.46                 0.46   \n",
       "17281              12213.66                9497.63              5641.01   \n",
       "6293                   0.17                   0.17                 0.17   \n",
       "\n",
       "       previous_month_debit  current_month_balance  previous_month_balance  \\\n",
       "4655                1603.47               12165.47                 8832.72   \n",
       "9311                  37.88                4913.96                 4695.64   \n",
       "424                    0.46                3276.19                 2892.05   \n",
       "17281               5343.17               81594.96                76291.08   \n",
       "6293                   0.17                2774.03                 2535.80   \n",
       "\n",
       "      churn  \n",
       "4655    Yes  \n",
       "9311    Yes  \n",
       "424     Yes  \n",
       "17281   Yes  \n",
       "6293    Yes  "
      ]
     },
     "execution_count": 2,
     "metadata": {},
     "output_type": "execute_result"
    }
   ],
   "source": [
    "## Read in data\n",
    "df0 = pd.read_csv('./data/visathon_train_data.csv')#,index=customer_id)\n",
    "print('Shape: {}'.format(df0.shape))\n",
    "df0.sample(5)"
   ]
  },
  {
   "cell_type": "markdown",
   "metadata": {},
   "source": [
    "### Split data"
   ]
  },
  {
   "cell_type": "code",
   "execution_count": 3,
   "metadata": {},
   "outputs": [],
   "source": [
    "target = 'churn'\n",
    "X = df0.drop(target,axis=1).copy()\n",
    "y = df0[target].copy()"
   ]
  },
  {
   "cell_type": "code",
   "execution_count": 4,
   "metadata": {},
   "outputs": [
    {
     "name": "stdout",
     "output_type": "stream",
     "text": [
      "X_train shape: (13240, 19)\n",
      "X_test shape: (4414, 19)\n",
      "y_train shape: (13240,)\n",
      "y_test shape: (4414,)\n"
     ]
    }
   ],
   "source": [
    "X_train,X_test,y_train,y_test = train_test_split(X,y,test_size=0.25, random_state=10086)\n",
    "print('X_train shape: {}\\nX_test shape: {}\\ny_train shape: {}\\ny_test shape: {}'.format( X_train.shape, X_test.shape, y_train.shape, y_test.shape))"
   ]
  },
  {
   "cell_type": "markdown",
   "metadata": {},
   "source": [
    "## Load data pipelines"
   ]
  },
  {
   "cell_type": "code",
   "execution_count": 5,
   "metadata": {},
   "outputs": [],
   "source": [
    "pipeline_data = joblib.load('pipeline_data.joblib')"
   ]
  },
  {
   "cell_type": "code",
   "execution_count": 6,
   "metadata": {},
   "outputs": [
    {
     "data": {
      "text/plain": [
       "((13240, 47), (4414, 47))"
      ]
     },
     "execution_count": 6,
     "metadata": {},
     "output_type": "execute_result"
    }
   ],
   "source": [
    "X_train_transformed = pipeline_data.transform(X_train)\n",
    "X_test_transformed = pipeline_data.transform(X_test)\n",
    "X_train_transformed.shape, X_test_transformed.shape"
   ]
  },
  {
   "cell_type": "markdown",
   "metadata": {},
   "source": [
    "Once the data sets are transformed, the next step is to use the transformed data to train models."
   ]
  },
  {
   "cell_type": "markdown",
   "metadata": {},
   "source": [
    "## Train classification models\n",
    "This section we will look at screen various classification algorithms to select a few promising candidates for further tuning."
   ]
  },
  {
   "cell_type": "markdown",
   "metadata": {},
   "source": [
    "This model set includes 9 scikit-learn classification algorithms (excluding those from ensemble family). The classification algorithms from the ensumble family will be discussed in ***Model set 2*** section."
   ]
  },
  {
   "cell_type": "markdown",
   "metadata": {},
   "source": [
    "### 1. Select candidate models"
   ]
  },
  {
   "cell_type": "code",
   "execution_count": 7,
   "metadata": {},
   "outputs": [],
   "source": [
    "# Classifiers\n",
    "from sklearn.neighbors import KNeighborsClassifier\n",
    "from sklearn.tree import DecisionTreeClassifier\n",
    "from sklearn.linear_model import LogisticRegression\n",
    "from sklearn.neural_network import MLPClassifier\n",
    "from sklearn.svm import SVC\n",
    "from sklearn.gaussian_process import GaussianProcessClassifier\n",
    "from sklearn.gaussian_process.kernels import RBF\n",
    "from sklearn.ensemble import RandomForestClassifier, AdaBoostClassifier\n",
    "from sklearn.naive_bayes import GaussianNB\n",
    "from sklearn.discriminant_analysis import QuadraticDiscriminantAnalysis\n",
    "\n",
    "# Model seclection\n",
    "from sklearn.model_selection import RandomizedSearchCV\n",
    "from scipy.stats import loguniform, randint\n",
    "\n",
    "# Model evaluation\n",
    "from sklearn.metrics import roc_auc_score, roc_curve\n",
    "\n",
    "from time import time"
   ]
  },
  {
   "cell_type": "code",
   "execution_count": 8,
   "metadata": {},
   "outputs": [],
   "source": [
    "names = [\n",
    "    \"K Nearest Neighbors\",\n",
    "    \"Logistic Regression\",\n",
    "    \"Linear SVM\",\n",
    "    \"RBF SVM\",\n",
    "    \"Decision Tree\",\n",
    "    \"Neural Net\",\n",
    "    \"Naive Bayes\",\n",
    "    \"Quadratic Discriminant Analysis\",\n",
    "    \"Gaussian Process\",\n",
    "]\n",
    "\n",
    "classifiers = [\n",
    "    KNeighborsClassifier(3),\n",
    "    LogisticRegression(max_iter=500, n_jobs=-1, random_state=15611),\n",
    "    SVC(kernel=\"linear\", C=0.025, probability=True, random_state=15611),\n",
    "    SVC(gamma=2, C=1, probability=True, random_state=15611),\n",
    "    DecisionTreeClassifier(max_depth=5, random_state=15611),\n",
    "    MLPClassifier(alpha=1, max_iter=1000, random_state=15611),\n",
    "    GaussianNB(),\n",
    "    QuadraticDiscriminantAnalysis(),\n",
    "    GaussianProcessClassifier(1.0 * RBF(1.0), random_state=15611),\n",
    "]"
   ]
  },
  {
   "cell_type": "code",
   "execution_count": 9,
   "metadata": {},
   "outputs": [
    {
     "name": "stdout",
     "output_type": "stream",
     "text": [
      "Fitting: K Nearest Neighbors\n",
      "K Nearest Neighbors has a roc_auc score: 0.6954400705782202\n",
      "Time elapsed: 0.05 minutes for model \"K Nearest Neighbors\"\n",
      "\n",
      "Fitting: Logistic Regression\n",
      "Logistic Regression has a roc_auc score: 0.8214096142524876\n",
      "Time elapsed: 0.06 minutes for model \"Logistic Regression\"\n",
      "\n",
      "Fitting: Linear SVM\n",
      "Linear SVM has a roc_auc score: 0.8108315337684235\n",
      "Time elapsed: 0.35 minutes for model \"Linear SVM\"\n",
      "\n",
      "Fitting: RBF SVM\n",
      "RBF SVM has a roc_auc score: 0.6933260185970016\n",
      "Time elapsed: 2.46 minutes for model \"RBF SVM\"\n",
      "\n",
      "Fitting: Decision Tree\n",
      "Decision Tree has a roc_auc score: 0.7884593561234959\n",
      "Time elapsed: 0.0 minutes for model \"Decision Tree\"\n",
      "\n",
      "Fitting: Neural Net\n",
      "Neural Net has a roc_auc score: 0.8317108129973347\n",
      "Time elapsed: 0.1 minutes for model \"Neural Net\"\n",
      "\n",
      "Fitting: Naive Bayes\n",
      "Naive Bayes has a roc_auc score: 0.7626442938234406\n",
      "Time elapsed: 0.0 minutes for model \"Naive Bayes\"\n",
      "\n",
      "Fitting: Quadratic Discriminant Analysis\n",
      "Quadratic Discriminant Analysis has a roc_auc score: 0.7045307436903744\n",
      "Time elapsed: 0.0 minutes for model \"Quadratic Discriminant Analysis\"\n",
      "\n",
      "Fitting: Gaussian Process\n"
     ]
    },
    {
     "name": "stderr",
     "output_type": "stream",
     "text": [
      "C:\\Users\\tessi\\anaconda3\\lib\\site-packages\\sklearn\\discriminant_analysis.py:715: UserWarning: Variables are collinear\n",
      "  warnings.warn(\"Variables are collinear\")\n"
     ]
    },
    {
     "name": "stdout",
     "output_type": "stream",
     "text": [
      "Gaussian Process has a roc_auc score: 0.8367389454466432\n",
      "Time elapsed: 156.25 minutes for model \"Gaussian Process\"\n",
      "\n"
     ]
    }
   ],
   "source": [
    "# iterate over classifiers\n",
    "\n",
    "score = {}\n",
    "model = {}\n",
    "for name, clf in zip(names, classifiers):\n",
    "    start = time()   \n",
    "    print(\"Fitting: {}\".format(name))\n",
    "    clf.fit(X_train_transformed, y_train)\n",
    "    pred_proba = clf.predict_proba(X_test_transformed)\n",
    "    roc_auc = roc_auc_score(y_test, pred_proba[:,1])\n",
    "    score[name] = roc_auc\n",
    "    model[name] = clf\n",
    "    print(\"{} has a roc_auc score: {}\".format(name, roc_auc))\n",
    "    print(f'Time elapsed: {round((time()-start)/60,2)} minutes for model \"{name}\"\\n')\n",
    "    joblib.dump(clf, 'screening - ' + name +'.joblib')\n"
   ]
  },
  {
   "cell_type": "code",
   "execution_count": 29,
   "metadata": {},
   "outputs": [
    {
     "data": {
      "text/plain": [
       "['sccreening - results all models.joblib']"
      ]
     },
     "execution_count": 29,
     "metadata": {},
     "output_type": "execute_result"
    }
   ],
   "source": [
    "screening_results = {'score':score,'model': model}\n",
    "joblib.dump(screening_results, 'sccreening - results all models.joblib')"
   ]
  },
  {
   "cell_type": "code",
   "execution_count": 66,
   "metadata": {},
   "outputs": [],
   "source": [
    "screening_results = joblib.load('sccreening - results all models.joblib')"
   ]
  },
  {
   "cell_type": "code",
   "execution_count": 68,
   "metadata": {},
   "outputs": [
    {
     "name": "stdout",
     "output_type": "stream",
     "text": [
      "roc_auc score for model GaussianProcessClassifier(kernel=1**2 * RBF(length_scale=1), random_state=15611)\n"
     ]
    }
   ],
   "source": [
    "# Model for candidate of the best model\n",
    "print('roc_auc score for model {}'.format(screening_results['model']['Gaussian Process']))"
   ]
  },
  {
   "cell_type": "markdown",
   "metadata": {},
   "source": [
    "The screening of the models indicated that 3 models, i.e., ***LogigsticRegression, Neural Network (MLPClassifier), and GaussianProcessClassifier)***, have ***over 0.82*** roc_auc scores (0.821, 0.832, and 0.837, respectively). <br>\n",
    "Since the GaussianProcessClassifier is already hyperparameter optimized for the kernel and none of the other parameters are to be tuned, and more importantly, it is too computationally intensive to complete tuning using the resources available, we will use the result from this stage as the best estimator. <br>\n",
    "\n",
    "Therefore, the next step is to further tune the remaining two models to select the best models and parameters for this dataset."
   ]
  },
  {
   "cell_type": "markdown",
   "metadata": {},
   "source": [
    "### 2. Tune Hyperparameters of candiate models\n",
    "We will tune the hyparameters using ***RandomSearchCV*** from scikit learn's model_selection module. Parameter distribution will be using the ***loguniform and randint*** distribution from scipy's stats module. Thes distributions generate a continuous range of floates and integers, repectively, for the hyperparameters of interest. We will use two sets of parameter spaces to tune the selected candidate models. <br>\n",
    "The first set of hyperparameter space will tune 4 and 5 hyperparameters for LF and MLP, respectively and randomly sample 50 hyperparameter combinations. The second set of hyperparameter space will tune more hyperparameters (5 for LF and 10 for MLP and randomly sample 100 hyperparameter combinations. In addition, for LF, two versions of penalty and solver settings will also be tuned. This allows for us to examine if a finer tuning and more iteration will have more chance to get a better final model."
   ]
  },
  {
   "cell_type": "markdown",
   "metadata": {},
   "source": [
    "#### **Hyperparameter tuning - setting 1**\n",
    "#### *1) Random Search CV*"
   ]
  },
  {
   "cell_type": "code",
   "execution_count": 33,
   "metadata": {},
   "outputs": [
    {
     "name": "stdout",
     "output_type": "stream",
     "text": [
      "Fitting 5 folds for each of 50 candidates, totalling 250 fits\n"
     ]
    },
    {
     "name": "stderr",
     "output_type": "stream",
     "text": [
      "[Parallel(n_jobs=-1)]: Using backend LokyBackend with 8 concurrent workers.\n",
      "[Parallel(n_jobs=-1)]: Done  34 tasks      | elapsed:   31.1s\n",
      "[Parallel(n_jobs=-1)]: Done 184 tasks      | elapsed:  3.3min\n",
      "[Parallel(n_jobs=-1)]: Done 250 out of 250 | elapsed:  4.3min finished\n"
     ]
    },
    {
     "name": "stdout",
     "output_type": "stream",
     "text": [
      "Time elapsed: 4.5 minutes\n"
     ]
    }
   ],
   "source": [
    "## create a pipeline\n",
    "pipe_clf = Pipeline([('classifier',LogisticRegression())])\n",
    "\n",
    "## Create dictionary with candidate learning algorithms and their hyperparameters\n",
    "param_space =  [{\"classifier\": [LogisticRegression(random_state=15611, max_iter=200)],\n",
    "                 'classifier__penalty': ['l1','l2'],\n",
    "                 'classifier__solver': ['liblinear'],\n",
    "                 'classifier__C': loguniform(0.0001, 100),\n",
    "                },\n",
    "                {\"classifier\": [LogisticRegression(random_state=15611, max_iter=200)],\n",
    "                 'classifier__penalty': ['l2'],\n",
    "                 'classifier__solver': ['lbfgs','sag'],\n",
    "                 'classifier__C': loguniform(0.0001, 100),\n",
    "                },\n",
    "                {\"classifier\": [MLPClassifier(random_state=15611)],\n",
    "                 'classifier__activation':['tanh','relu'],\n",
    "                 'classifier__learning_rate': ['constant','invscaling'],\n",
    "                 'classifier__solver': ['adam','sgd'],\n",
    "                 'classifier__alpha':loguniform(0.0001,1),\n",
    "                },]\n",
    "\n",
    "# Parameter tuning\n",
    "start = time()\n",
    "clf_randsearchcv_v1 = RandomizedSearchCV(estimator = pipe_clf, \n",
    "                                      param_distributions=param_space, \n",
    "                                      scoring='roc_auc',\n",
    "                                      n_iter=50,\n",
    "                                      cv=5, \n",
    "                                      verbose=1,\n",
    "                                      n_jobs=-1,\n",
    "                                      random_state = 15661\n",
    "                                      )\n",
    "clf_randsearchcv_v1.fit(X_train_transformed, y_train)\n",
    "print(f'Time elapsed: {round((time()-start)/60,2)} minutes')"
   ]
  },
  {
   "cell_type": "code",
   "execution_count": 44,
   "metadata": {},
   "outputs": [
    {
     "data": {
      "text/plain": [
       "['clf_randsearchcv_v1.joblib']"
      ]
     },
     "execution_count": 44,
     "metadata": {},
     "output_type": "execute_result"
    }
   ],
   "source": [
    "joblib.dump(clf_randsearchcv_v1,'clf_randsearchcv_v1.joblib')\n",
    "# clf_randsearchcv_v1 = joblib.load('clf_randsearchcv_v1.joblib')"
   ]
  },
  {
   "cell_type": "markdown",
   "metadata": {},
   "source": [
    "#### *2) Best estimator*"
   ]
  },
  {
   "cell_type": "code",
   "execution_count": 45,
   "metadata": {},
   "outputs": [
    {
     "name": "stdout",
     "output_type": "stream",
     "text": [
      "Best SearchCV_v1 score: 0.8365526545730623\n"
     ]
    },
    {
     "data": {
      "text/plain": [
       "{'classifier': MLPClassifier(alpha=0.47857874420504615, learning_rate='invscaling',\n",
       "               random_state=15611),\n",
       " 'classifier__activation': 'relu',\n",
       " 'classifier__alpha': 0.47857874420504615,\n",
       " 'classifier__learning_rate': 'invscaling',\n",
       " 'classifier__solver': 'adam'}"
      ]
     },
     "execution_count": 45,
     "metadata": {},
     "output_type": "execute_result"
    }
   ],
   "source": [
    "print(f'Best SearchCV_v1 score: {clf_randsearchcv_v1.best_score_}')\n",
    "clf_randsearchcv_v1.best_params_"
   ]
  },
  {
   "cell_type": "code",
   "execution_count": 46,
   "metadata": {},
   "outputs": [
    {
     "name": "stdout",
     "output_type": "stream",
     "text": [
      "Number of layers in the neural network = 3\n"
     ]
    }
   ],
   "source": [
    "# number of layers in the neural network:\n",
    "print('Number of layers in the neural network = {}'.format(clf_randsearchcv_v1.best_estimator_['classifier'].n_layers_))"
   ]
  },
  {
   "cell_type": "code",
   "execution_count": 47,
   "metadata": {},
   "outputs": [
    {
     "name": "stdout",
     "output_type": "stream",
     "text": [
      "Mean cv scores - Highest: 0.8365526545730623 from param combination [20]\n",
      "Mean cv scores:\n"
     ]
    },
    {
     "data": {
      "text/plain": [
       "array([0.7143584 , 0.8212159 , 0.80464247, 0.79563221, 0.5       ,\n",
       "       0.83617181, 0.79426399, 0.82179706, 0.81658174, 0.79291375,\n",
       "       0.82426393, 0.83367244, 0.80863407, 0.82190925, 0.79588528,\n",
       "       0.83437785, 0.82088893, 0.82137082, 0.82084798, 0.80953672,\n",
       "       0.83655265, 0.80896515, 0.81812586, 0.82162234, 0.83385271,\n",
       "       0.77605702, 0.81443284, 0.77905083, 0.82121608, 0.80546593,\n",
       "       0.82189366, 0.82180561, 0.78671436, 0.83365347, 0.81534916,\n",
       "       0.60245676, 0.82145197, 0.82111212, 0.82168169, 0.81461085,\n",
       "       0.60245801, 0.77103347, 0.82115119, 0.82190766, 0.79608996,\n",
       "       0.81519294, 0.815888  , 0.71436019, 0.71436197, 0.82105215])"
      ]
     },
     "execution_count": 47,
     "metadata": {},
     "output_type": "execute_result"
    }
   ],
   "source": [
    "print(f\"Mean cv scores - Highest: {clf_randsearchcv_v1.cv_results_['mean_test_score'].max()} \\\n",
    "from param combination {np.where(clf_randsearchcv_v1.cv_results_['mean_test_score'] == clf_randsearchcv_v1.cv_results_['mean_test_score'].max())[0]}\")\n",
    "\n",
    "print('Mean cv scores:')\n",
    "clf_randsearchcv_v1.cv_results_['mean_test_score']"
   ]
  },
  {
   "cell_type": "markdown",
   "metadata": {},
   "source": [
    "#### *3) Best prediction accuracy*"
   ]
  },
  {
   "cell_type": "code",
   "execution_count": 49,
   "metadata": {},
   "outputs": [
    {
     "data": {
      "text/plain": [
       "0.8370823852962486"
      ]
     },
     "execution_count": 49,
     "metadata": {},
     "output_type": "execute_result"
    }
   ],
   "source": [
    "# Best prediction score\n",
    "clf_nn_v1_pred_proba = clf_randsearchcv_v1.best_estimator_.predict_proba(X_test_transformed)\n",
    "clf_nn_v1_roc_auc = roc_auc_score(y_test, clf_nn_v1_pred_proba[:,1])\n",
    "clf_nn_v1_roc_auc"
   ]
  },
  {
   "cell_type": "markdown",
   "metadata": {},
   "source": [
    "#### **Hyperparameter tuning - setting 2**\n",
    "#### *1) Randomized Search CV*"
   ]
  },
  {
   "cell_type": "code",
   "execution_count": 24,
   "metadata": {},
   "outputs": [
    {
     "name": "stdout",
     "output_type": "stream",
     "text": [
      "Fitting 5 folds for each of 100 candidates, totalling 500 fits\n"
     ]
    },
    {
     "name": "stderr",
     "output_type": "stream",
     "text": [
      "[Parallel(n_jobs=-1)]: Using backend LokyBackend with 8 concurrent workers.\n",
      "[Parallel(n_jobs=-1)]: Done  34 tasks      | elapsed:  1.4min\n",
      "[Parallel(n_jobs=-1)]: Done 184 tasks      | elapsed:  4.8min\n",
      "[Parallel(n_jobs=-1)]: Done 434 tasks      | elapsed:  9.1min\n",
      "[Parallel(n_jobs=-1)]: Done 500 out of 500 | elapsed: 11.6min finished\n"
     ]
    },
    {
     "name": "stdout",
     "output_type": "stream",
     "text": [
      "Time elapsed: 11.72 minutes\n"
     ]
    }
   ],
   "source": [
    "## create a pipeline\n",
    "pipe_clf = Pipeline([('classifier',LogisticRegression())])\n",
    "\n",
    "## Create dictionary with candidate learning algorithms and their hyperparameters\n",
    "param_space =  [{\"classifier\": [LogisticRegression(random_state=15611)],\n",
    "                 'classifier__penalty': ['l1','l2'],\n",
    "                 'classifier__solver': ['liblinear'],\n",
    "                 'classifier__C': loguniform(0.0001, 100),\n",
    "                 'classifier__max_iter': randint(200, 600),\n",
    "                },\n",
    "                {\"classifier\": [LogisticRegression(random_state=15611)],\n",
    "                 'classifier__penalty': ['l2'],\n",
    "                 'classifier__solver': ['lbfgs','sag'],\n",
    "                 'classifier__C': loguniform(0.0001, 100),\n",
    "                 'classifier__max_iter': randint(200, 600),\n",
    "                },\n",
    "                {\"classifier\": [MLPClassifier(random_state=15611)],\n",
    "                 'classifier__activation':['tanh','relu'],\n",
    "                 'classifier__hidden_layer_sizes': randint(5,100),\n",
    "                 'classifier__learning_rate': ['constant','invscaling'],\n",
    "                 'classifier__max_iter': randint(200,600),\n",
    "                 'classifier__solver': ['adam','sgd'],\n",
    "                 'classifier__alpha':loguniform(0.0001,1),\n",
    "                },]\n",
    "\n",
    "# Parameter tuning\n",
    "start = time()\n",
    "clf_randsearchcv_v2 = RandomizedSearchCV(estimator = pipe_clf, \n",
    "                                      param_distributions=param_space, \n",
    "                                      scoring='roc_auc',\n",
    "                                      n_iter=100,\n",
    "                                      cv=5, \n",
    "                                      verbose=1,\n",
    "                                      n_jobs=-1,\n",
    "                                      random_state = 15661\n",
    "                                      )\n",
    "clf_randsearchcv_v2.fit(X_train_transformed, y_train)\n",
    "print(f'Time elapsed: {round((time()-start)/60,2)} minutes')"
   ]
  },
  {
   "cell_type": "code",
   "execution_count": 31,
   "metadata": {},
   "outputs": [
    {
     "data": {
      "text/plain": [
       "['clf_randsearchcv_v2.joblib']"
      ]
     },
     "execution_count": 31,
     "metadata": {},
     "output_type": "execute_result"
    }
   ],
   "source": [
    "joblib.dump(clf_randsearchcv_v2,'clf_randsearchcv_v2.joblib')\n",
    "# load the save search result\n",
    "# clf_randsearchcv_v2 = joblib.load('clf_randsearchcv_v2.joblib')"
   ]
  },
  {
   "cell_type": "markdown",
   "metadata": {},
   "source": [
    "#### *2) Best estimator*"
   ]
  },
  {
   "cell_type": "code",
   "execution_count": 51,
   "metadata": {},
   "outputs": [
    {
     "name": "stdout",
     "output_type": "stream",
     "text": [
      "Best roc_auc Score: 0.839\n",
      "Best model and parameters:\n"
     ]
    },
    {
     "data": {
      "text/plain": [
       "{'classifier': MLPClassifier(activation='tanh', alpha=0.6818883687798777,\n",
       "               hidden_layer_sizes=23, max_iter=381, random_state=15611),\n",
       " 'classifier__activation': 'tanh',\n",
       " 'classifier__alpha': 0.6818883687798777,\n",
       " 'classifier__hidden_layer_sizes': 23,\n",
       " 'classifier__learning_rate': 'constant',\n",
       " 'classifier__max_iter': 381,\n",
       " 'classifier__solver': 'adam'}"
      ]
     },
     "execution_count": 51,
     "metadata": {},
     "output_type": "execute_result"
    }
   ],
   "source": [
    "print(f'Best roc_auc Score: {round(clf_randsearchcv_v2.best_score_,4)}')\n",
    "print('Best model and parameters:')\n",
    "clf_randsearchcv_v2.best_params_"
   ]
  },
  {
   "cell_type": "code",
   "execution_count": 52,
   "metadata": {},
   "outputs": [
    {
     "name": "stdout",
     "output_type": "stream",
     "text": [
      "Number of layers in the neural network = 3\n"
     ]
    }
   ],
   "source": [
    "# number of layers in the neural network:\n",
    "print('Number of layers in the neural network = {}'.format(clf_randsearchcv_v2.best_estimator_['classifier'].n_layers_))"
   ]
  },
  {
   "cell_type": "code",
   "execution_count": 54,
   "metadata": {},
   "outputs": [
    {
     "name": "stdout",
     "output_type": "stream",
     "text": [
      "Mean cv scores - Highest: 0.8390006793252989 from param combination [7]\n",
      "Mean cv scores - each parameter and model combination:\n"
     ]
    },
    {
     "data": {
      "text/plain": [
       "array([0.83216388, 0.82103508, 0.79641244, 0.75461824, 0.81938759,\n",
       "       0.82865189, 0.83335945, 0.83900068, 0.82193232, 0.82140794,\n",
       "       0.79039227, 0.74323042, 0.82195663, 0.81539166, 0.82144958,\n",
       "       0.82188846, 0.83655056, 0.78641216, 0.82173645, 0.78080493,\n",
       "       0.78902971, 0.81265627, 0.83306915, 0.81441836, 0.82185715,\n",
       "       0.78266958, 0.82195199, 0.78997597, 0.82183448, 0.80149711,\n",
       "       0.75668774, 0.83676797, 0.78798366, 0.82109846, 0.5       ,\n",
       "       0.81201199, 0.82145376, 0.79101191, 0.82035662, 0.68181791,\n",
       "       0.81594161, 0.82159623, 0.82130352, 0.82181011, 0.82167796,\n",
       "       0.50664998, 0.82189511, 0.82136413, 0.8170432 , 0.82056363,\n",
       "       0.82074023, 0.80182747, 0.77796511, 0.57142085, 0.81262428,\n",
       "       0.82182886, 0.82106252, 0.7920473 , 0.83476188, 0.75115288,\n",
       "       0.75668721, 0.80735567, 0.62850006, 0.61894621, 0.8216624 ,\n",
       "       0.82187902, 0.82183115, 0.82137593, 0.83305111, 0.8054598 ,\n",
       "       0.83145474, 0.82188433, 0.79059453, 0.81845724, 0.82022106,\n",
       "       0.81266654, 0.81140547, 0.82106592, 0.82136789, 0.81394868,\n",
       "       0.82110668, 0.80378412, 0.79361661, 0.8218095 , 0.82114565,\n",
       "       0.82154723, 0.82189368, 0.82174107, 0.83429827, 0.79441876,\n",
       "       0.78745734, 0.76186361, 0.82184241, 0.5       , 0.58847971,\n",
       "       0.79009827, 0.82189139, 0.82845342, 0.80061938, 0.82119768])"
      ]
     },
     "execution_count": 54,
     "metadata": {},
     "output_type": "execute_result"
    }
   ],
   "source": [
    "print(f\"Mean cv scores - Highest: {clf_randsearchcv_v2.cv_results_['mean_test_score'].max()} \\\n",
    "from param combination {np.where(clf_randsearchcv_v2.cv_results_['mean_test_score'] == clf_randsearchcv_v2.cv_results_['mean_test_score'].max())[0]}\")\n",
    "\n",
    "print('Mean cv scores - each parameter and model combination:')\n",
    "clf_randsearchcv_v2.cv_results_['mean_test_score']"
   ]
  },
  {
   "cell_type": "markdown",
   "metadata": {},
   "source": [
    "#### *3) Best prediction accuracy*"
   ]
  },
  {
   "cell_type": "code",
   "execution_count": 73,
   "metadata": {},
   "outputs": [
    {
     "name": "stdout",
     "output_type": "stream",
     "text": [
      "Prediction score with the best model: 0.8363\n"
     ]
    }
   ],
   "source": [
    "# Best prediction score\n",
    "clf_nn_v2_pred_proba = clf_randsearchcv_v2.best_estimator_.predict_proba(X_test_transformed)\n",
    "clf_nn_v2_roc_auc = roc_auc_score(y_test, clf_nn_v2_pred_proba[:,1])\n",
    "print(f'Prediction score with the best model: {round(clf_nn_v2_roc_auc,4)}')"
   ]
  },
  {
   "cell_type": "markdown",
   "metadata": {},
   "source": [
    "## Learning curve\n",
    "This section will plot the learning curve of the best models identified in the previous section from Model sets 1 and 2. <br>\n",
    "For model set 1, plotting learning curve of Gaussian process model took forever return the plot - as it is shown in the model screening section that it took 156 minutes, compared to a few seconds for the other models (except for SVM RBF kernel 2.6 minutes). Therefore, this section will ommit learning curve of this model. "
   ]
  },
  {
   "cell_type": "code",
   "execution_count": 56,
   "metadata": {},
   "outputs": [],
   "source": [
    "# download from GitHub repository\n",
    "import requests\n",
    "# Save plot_learning_curve as file to colab working directory\n",
    "# Get the \"Raw\" version of the code from GitHub\n",
    "url = 'https://raw.githubusercontent.com/TessieTong/ds4ml/main/plot_learning_curve.py'\n",
    "r = requests.get(url)\n",
    "\n",
    "# Write to Colab working directory \n",
    "with open('plot_learning_curve.py', 'w') as f:\n",
    "    f.write(r.text)\n",
    "\n",
    "# import\n",
    "from plot_learning_curve import plot_learning_curve"
   ]
  },
  {
   "cell_type": "code",
   "execution_count": 57,
   "metadata": {},
   "outputs": [
    {
     "data": {
      "image/png": "[encoded data removed]",
      "text/plain": [
       "<Figure size 720x864 with 6 Axes>"
      ]
     },
     "metadata": {
      "needs_background": "light"
     },
     "output_type": "display_data"
    }
   ],
   "source": [
    "# Plot learning curves of the 4 best ensemble classifiers\n",
    "from sklearn.model_selection import learning_curve\n",
    "from sklearn.model_selection import ShuffleSplit\n",
    "nrows=3\n",
    "ncols=2\n",
    "fig, axes = plt.subplots(nrows, ncols, figsize=(ncols*5, nrows*4))\n",
    "# Cross validation with 10 iterations\n",
    "# score curves, each time with 20% data randomly selected as a validation set.\n",
    "# Here only the training set is used.\n",
    "cv = ShuffleSplit(n_splits=10, test_size=0.2, random_state=15611)\n",
    "\n",
    "title = r\"Learning Curves (MLPClassifier v1)\"\n",
    "plot_learning_curve(clf_randsearchcv_v1.best_estimator_,\n",
    "    title, X_train_transformed, y_train, \n",
    "    axes=axes[:, 0], ylim=(0.7, 1.01), cv=cv, n_jobs=-1)\n",
    "\n",
    "title = r\"Learning Curves (MLPClassifier v2)\"\n",
    "plot_learning_curve(clf_randsearchcv_v2.best_estimator_,\n",
    "    title, X_train_transformed, y_train, \n",
    "    axes=axes[:, 1], ylim=(0.7, 1.01), cv=cv, n_jobs=-1)\n",
    "\n",
    "plt.tight_layout(pad=3.0)\n",
    "plt.show();"
   ]
  },
  {
   "cell_type": "markdown",
   "metadata": {},
   "source": [
    "Both MLP models are somewhat underfitting, judging by learning curves. Both Training score decreases relatively rapidly while cross-validation score climbes slowly, with increasing the number of examples. The best model from the hyperparameter setting 1 seems to have a better scalability, but take more fit-times to get the highest score. <br>\n",
    "\n",
    "Due to the nature of RandomizedSearchCV algorithm, although there is no garantee that more hyperparameters in the distribution space or more sample combinations will produce the best models, certainly the chances of finding best models will be higher."
   ]
  },
  {
   "cell_type": "markdown",
   "metadata": {},
   "source": [
    "## Best predictive model"
   ]
  },
  {
   "cell_type": "code",
   "execution_count": 64,
   "metadata": {},
   "outputs": [],
   "source": [
    "# Calculate roc_auc score\n",
    "def calculate_roc_auc_score(model,X, y): \n",
    "    pred_proba = model.predict_proba(X)\n",
    "    roc_auc = roc_auc_score(y, pred_proba[:,1])\n",
    "    return roc_auc"
   ]
  },
  {
   "cell_type": "code",
   "execution_count": 100,
   "metadata": {},
   "outputs": [
    {
     "name": "stdout",
     "output_type": "stream",
     "text": [
      "MLP v1 - Best prediction score v1:   0.8371, Best training score v1: 0.8366\n",
      "MLP v2 - Best prediction score v2:   0.8363, Best training score v2: 0.839\n",
      "Guassian Process - prediction score: 0.8367, \ttraining score:      0.8368\n"
     ]
    }
   ],
   "source": [
    "# Best prediction score\n",
    "clf_nn_v1_roc_auc = calculate_roc_auc_score(clf_randsearchcv_v1.best_estimator_, X_test_transformed, y_test)\n",
    "print(f'MLP v1 - Best prediction score v1:   {round(clf_nn_v1_roc_auc,4)}, Best training score v1: {round(clf_randsearchcv_v1.best_score_,4)}')\n",
    "clf_nn_v2_roc_auc = calculate_roc_auc_score(clf_randsearchcv_v2.best_estimator_, X_test_transformed,y_test) \n",
    "print(f'MLP v2 - Best prediction score v2:   {round(clf_nn_v2_roc_auc,4)}, Best training score v2: {round(clf_randsearchcv_v2.best_score_,4)}')\n",
    "## Gaussian process\n",
    "clf_gp_train_roc_auc = calculate_roc_auc_score(screening_results['model']['Gaussian Process'], X_test_transformed, y_test)\n",
    "clf_gp_roc_auc = screening_results['score']['Gaussian Process'] \n",
    "print(f'Guassian Process - prediction score: {round(clf_gp_roc_auc,4)}, \\ttraining score:      {round(clf_gp_train_roc_auc,4)}')"
   ]
  },
  {
   "cell_type": "code",
   "execution_count": 89,
   "metadata": {},
   "outputs": [
    {
     "data": {
      "text/plain": [
       "{'classifier': MLPClassifier(alpha=0.47857874420504615, learning_rate='invscaling',\n",
       "               random_state=15611),\n",
       " 'classifier__activation': 'relu',\n",
       " 'classifier__alpha': 0.47857874420504615,\n",
       " 'classifier__learning_rate': 'invscaling',\n",
       " 'classifier__solver': 'adam'}"
      ]
     },
     "execution_count": 89,
     "metadata": {},
     "output_type": "execute_result"
    }
   ],
   "source": [
    "# Best model:\n",
    "clf_randsearchcv_v1.best_params_"
   ]
  },
  {
   "cell_type": "markdown",
   "metadata": {},
   "source": [
    "The ***best predictive model*** is the ***Multi_Layer Perceptron classifier (MLPClassifier)*** from scikit learn's neural_network module, with default ***\"relu\"*** activation function and ***\"adam\"*** solver, ***\"invscaling\"*** learning rate schedule, and L2 penalty regulization parameter ***alpha = 0.4786***. <br>\n",
    "\n",
    "The hyperparameter setting 2 had a high cross-validation score, however, the score is somewhat lower on test set, which is expected. Guassian process had the second best score. Nevertheless, the scores from the three models are very close (max difference is less than 0.001). <br>\n",
    "\n",
    "It should be noted that due to the randomness nuature of RandomSearchCV algorithm, the results will be different each time when we fit the model. Further more, Gaussian Process is highly computational expensive, any execution that involves repeated compotations, such as hyperparameter tuning, learning curve, or permutation importances, is extremely slow. Therefore, evaluating model performace or selecting important features of a Guassian Process Classifier will be extremely expensive. "
   ]
  },
  {
   "cell_type": "markdown",
   "metadata": {},
   "source": [
    "## Feature importance\n",
    "### Feature list from pipeline"
   ]
  },
  {
   "cell_type": "code",
   "execution_count": 151,
   "metadata": {},
   "outputs": [],
   "source": [
    "depend = ['dependents']\n",
    "cat_vars = ['gender', 'occupation']#,'branch_code']\n",
    "\n",
    "nw_cat = ['customer_nw_category']\n",
    "bal_vars = ['current_balance', 'current_month_balance', \n",
    "            'previous_month_end_balance','previous_month_balance',\n",
    "            'average_monthly_balance_prevQ', 'average_monthly_balance_prevQ2']\n",
    "debit_vars = ['current_month_debit','previous_month_debit']\n",
    "credit_vars = ['current_month_credit', 'previous_month_credit']\n",
    "days_br_vars = ['days_since_last_transaction','branch_code']\n",
    "vin_age_vars = ['vintage', 'age']\n",
    "vin_day_vars = ['days_since_last_transaction','vintage']\n",
    "vin_dep_vars = ['dependents','vintage']\n",
    "\n",
    "target = 'churn'"
   ]
  },
  {
   "cell_type": "code",
   "execution_count": 152,
   "metadata": {},
   "outputs": [],
   "source": [
    "vars_list = [depend,cat_vars,nw_cat,vin_age_vars,days_br_vars,bal_vars,debit_vars,credit_vars, bal_vars,\n",
    "             vin_day_vars,depend+bal_vars,depend+credit_vars,depend+debit_vars,vin_age_vars]\n",
    "last_steps = ['ohe_depend','ohe_cat','','scal_base','scal_days_br','scal_bal','scal_debit','scal_credit', 'scal_bal_pct',\n",
    "              'scal_vinday','scal_bal_pers','scal_credit_pers','scal_debit_pers','scal_vinage']"
   ]
  },
  {
   "cell_type": "code",
   "execution_count": 228,
   "metadata": {},
   "outputs": [
    {
     "data": {
      "text/plain": [
       "47"
      ]
     },
     "execution_count": 228,
     "metadata": {},
     "output_type": "execute_result"
    }
   ],
   "source": [
    "# get the features after transformation\n",
    "features_fin = []\n",
    "for key, step, vars in zip(list(pipeline_data.named_transformers_.keys())[:-1], last_steps, vars_list):\n",
    "#     print(key, step, vars)\n",
    "    if key == 'depend':\n",
    "        features_fin.extend(list(pipeline_data.named_transformers_[key][step].get_feature_names() + '_dependents'))\n",
    "    elif key == 'cat_vars':\n",
    "        features_fin.extend(list(pipeline_data.named_transformers_[key][step].get_feature_names()))\n",
    "    elif key == 'ode_nw':\n",
    "        features_fin.extend(list(nw_cat))\n",
    "    elif key == 'eng_pct':\n",
    "        features_fin.extend('_pct,'.join(vars+['']).split(',')[1:-1])\n",
    "    elif key == 'eng_vinday':\n",
    "        features_fin.extend('_vinday,'.join(vars+['']).split(',')[1:-1])\n",
    "    elif key == 'eng_balpers':\n",
    "        features_fin.extend('_balpers,'.join(vars+['']).split(',')[1:-1])\n",
    "    elif key == 'eng_crdpers':\n",
    "        features_fin.extend('_creditpers,'.join(vars+['']).split(',')[1:-1])\n",
    "    elif key == 'eng_dbtpers':\n",
    "        features_fin.extend('_debitpers,'.join(vars+['']).split(',')[1:-1])\n",
    "    elif key == 'eng_srscore':\n",
    "#         print(step, vars)\n",
    "        features_fin.extend('_age_seniority,'.join(vars+['']).split(',')[0:-2])\n",
    "    else:\n",
    "        features_fin.extend(vars)\n",
    "len(features_fin)"
   ]
  },
  {
   "cell_type": "markdown",
   "metadata": {},
   "source": [
    "### Permutation importance"
   ]
  },
  {
   "cell_type": "code",
   "execution_count": 114,
   "metadata": {},
   "outputs": [],
   "source": [
    "from sklearn.inspection import permutation_importance\n",
    "fpi_train_v1 = permutation_importance(clf_randsearchcv_v1.best_estimator_, X_train_transformed, y_train, scoring='roc_auc')\n",
    "fpi_test_v1 = permutation_importance(clf_randsearchcv_v1.best_estimator_, X_test_transformed, y_test, scoring='roc_auc')\n",
    "\n",
    "fpi_train_v2 = permutation_importance(clf_randsearchcv_v2.best_estimator_, X_train_transformed, y_train, scoring='roc_auc')\n",
    "fpi_test_v2 = permutation_importance(clf_randsearchcv_v2.best_estimator_, X_test_transformed, y_test, scoring='roc_auc')"
   ]
  },
  {
   "cell_type": "code",
   "execution_count": 124,
   "metadata": {},
   "outputs": [
    {
     "data": {
      "text/plain": [
       "array([1.22935917e-03, 3.16992695e-04, 1.61195086e-04, 5.96010036e-05,\n",
       "       6.17671429e-06, 1.57277447e-05, 1.24034714e-05, 1.88805141e-03,\n",
       "       1.08433506e-03, 1.22373292e-03, 2.27122932e-05, 1.37260318e-04,\n",
       "       1.39715991e-03, 4.09514728e-04, 5.28452223e-05, 2.80404957e-03,\n",
       "       3.22566036e-03, 3.24815103e-03, 2.81432979e-03, 2.34361984e-03,\n",
       "       5.47064937e-02, 1.31346185e-02, 3.25539295e-03, 4.49796342e-03,\n",
       "       6.14858808e-02, 5.00943683e-03, 4.41314083e-03, 1.89261246e-03,\n",
       "       1.89399936e-03, 3.18706304e-03, 7.51116339e-03, 7.73288170e-03,\n",
       "       6.36115785e-03, 1.63299458e-02, 1.97759518e-02, 1.31744884e-03,\n",
       "       6.78831839e-02, 4.60801474e-03, 1.76483168e-03, 5.55145780e-03,\n",
       "       5.72144541e-02, 5.29579616e-03, 2.30402167e-03, 1.51246572e-03,\n",
       "       2.96376481e-03, 1.98098094e-03, 1.65345065e-03])"
      ]
     },
     "execution_count": 124,
     "metadata": {},
     "output_type": "execute_result"
    }
   ],
   "source": [
    "# Importances of features of the best model\n",
    "fpi_train_v1['importances_mean']"
   ]
  },
  {
   "cell_type": "code",
   "execution_count": 147,
   "metadata": {},
   "outputs": [],
   "source": [
    "def plot_feature_importance(fpi1, fpi2=[],dataset=['train'], model='regression'):\n",
    "    \"\"\" plot feaute importance\n",
    "        fpi1 and fpi2: feautre importance lists.\n",
    "        dataset: list of dataset names\n",
    "        model: string, model name\n",
    "    \"\"\"\n",
    "    plt.figure(figsize=(10,4))\n",
    "    ncols = 2\n",
    "    if len(fpi2) == 0:\n",
    "        ncols = 1\n",
    "    plt.subplot(1,ncols,1)\n",
    "    plt.bar(range(len(fpi1)), fpi1, 1,1)\n",
    "    plt.title(model + ': Feature Importance - ' + dataset[0] + ' set')\n",
    "    if len(fpi2) > 0:\n",
    "        plt.subplot(1,ncols,ncols)\n",
    "        plt.bar(range(len(fpi2)), fpi2, 1,ncols)\n",
    "        plt.title(model + ': Feature Importance - ' + dataset[1] + ' set')\n"
   ]
  },
  {
   "cell_type": "code",
   "execution_count": 148,
   "metadata": {},
   "outputs": [
    {
     "data": {
      "image/png": "[encoded data removed]",
      "text/plain": [
       "<Figure size 720x288 with 2 Axes>"
      ]
     },
     "metadata": {
      "needs_background": "light"
     },
     "output_type": "display_data"
    },
    {
     "data": {
      "image/png": "[encoded data removed]",
      "text/plain": [
       "<Figure size 720x288 with 2 Axes>"
      ]
     },
     "metadata": {
      "needs_background": "light"
     },
     "output_type": "display_data"
    }
   ],
   "source": [
    "plot_feature_importance(fpi_train_v1['importances_mean'], fpi_test_v1['importances_mean'], dataset=['train','test'], model='MLP_v1')\n",
    "plot_feature_importance(fpi_train_v2['importances_mean'], fpi_test_v2['importances_mean'], dataset=['train','test'], model='MLP_v2')"
   ]
  },
  {
   "cell_type": "code",
   "execution_count": 248,
   "metadata": {},
   "outputs": [],
   "source": [
    "feat_importances = pd.DataFrame.from_dict({'features':features_fin,\n",
    "             'MLP_train_v1':fpi_train_v1['importances_mean'],\n",
    "             'MLP_test_v1':fpi_test_v1['importances_mean'],\n",
    "             'MLP_train_v2':fpi_train_v2['importances_mean'],\n",
    "             'MLP_test_v2':fpi_test_v2['importances_mean']}).sort_values(['MLP_test_v1'],ascending=False)"
   ]
  },
  {
   "cell_type": "code",
   "execution_count": 257,
   "metadata": {},
   "outputs": [
    {
     "name": "stdout",
     "output_type": "stream",
     "text": [
      "(23, 5)\n"
     ]
    },
    {
     "data": {
      "text/html": [
       "<div>\n",
       "<style scoped>\n",
       "    .dataframe tbody tr th:only-of-type {\n",
       "        vertical-align: middle;\n",
       "    }\n",
       "\n",
       "    .dataframe tbody tr th {\n",
       "        vertical-align: top;\n",
       "    }\n",
       "\n",
       "    .dataframe thead th {\n",
       "        text-align: right;\n",
       "    }\n",
       "</style>\n",
       "<table border=\"1\" class=\"dataframe\">\n",
       "  <thead>\n",
       "    <tr style=\"text-align: right;\">\n",
       "      <th></th>\n",
       "      <th>features</th>\n",
       "      <th>MLP_train_v1</th>\n",
       "      <th>MLP_test_v1</th>\n",
       "      <th>MLP_train_v2</th>\n",
       "      <th>MLP_test_v2</th>\n",
       "    </tr>\n",
       "  </thead>\n",
       "  <tbody>\n",
       "    <tr>\n",
       "      <th>24</th>\n",
       "      <td>average_monthly_balance_prevQ</td>\n",
       "      <td>0.061486</td>\n",
       "      <td>0.072757</td>\n",
       "      <td>0.073842</td>\n",
       "      <td>0.089131</td>\n",
       "    </tr>\n",
       "    <tr>\n",
       "      <th>40</th>\n",
       "      <td>average_monthly_balance_prevQ_balpers</td>\n",
       "      <td>0.057214</td>\n",
       "      <td>0.066146</td>\n",
       "      <td>0.065581</td>\n",
       "      <td>0.078087</td>\n",
       "    </tr>\n",
       "    <tr>\n",
       "      <th>36</th>\n",
       "      <td>current_balance_balpers</td>\n",
       "      <td>0.067883</td>\n",
       "      <td>0.060833</td>\n",
       "      <td>0.067744</td>\n",
       "      <td>0.064254</td>\n",
       "    </tr>\n",
       "    <tr>\n",
       "      <th>20</th>\n",
       "      <td>current_balance</td>\n",
       "      <td>0.054706</td>\n",
       "      <td>0.048338</td>\n",
       "      <td>0.054508</td>\n",
       "      <td>0.048944</td>\n",
       "    </tr>\n",
       "    <tr>\n",
       "      <th>34</th>\n",
       "      <td>average_monthly_balance_prevQ2_pct</td>\n",
       "      <td>0.019776</td>\n",
       "      <td>0.015175</td>\n",
       "      <td>0.003486</td>\n",
       "      <td>0.002491</td>\n",
       "    </tr>\n",
       "    <tr>\n",
       "      <th>21</th>\n",
       "      <td>current_month_balance</td>\n",
       "      <td>0.013135</td>\n",
       "      <td>0.010977</td>\n",
       "      <td>0.011873</td>\n",
       "      <td>0.009722</td>\n",
       "    </tr>\n",
       "    <tr>\n",
       "      <th>31</th>\n",
       "      <td>previous_month_end_balance_pct</td>\n",
       "      <td>0.007733</td>\n",
       "      <td>0.008751</td>\n",
       "      <td>0.006497</td>\n",
       "      <td>0.007807</td>\n",
       "    </tr>\n",
       "    <tr>\n",
       "      <th>33</th>\n",
       "      <td>average_monthly_balance_prevQ_pct</td>\n",
       "      <td>0.016330</td>\n",
       "      <td>0.008615</td>\n",
       "      <td>0.007646</td>\n",
       "      <td>0.003967</td>\n",
       "    </tr>\n",
       "    <tr>\n",
       "      <th>39</th>\n",
       "      <td>previous_month_balance_balpers</td>\n",
       "      <td>0.005551</td>\n",
       "      <td>0.005653</td>\n",
       "      <td>0.001624</td>\n",
       "      <td>0.002523</td>\n",
       "    </tr>\n",
       "    <tr>\n",
       "      <th>25</th>\n",
       "      <td>average_monthly_balance_prevQ2</td>\n",
       "      <td>0.005009</td>\n",
       "      <td>0.003258</td>\n",
       "      <td>0.009606</td>\n",
       "      <td>0.006439</td>\n",
       "    </tr>\n",
       "    <tr>\n",
       "      <th>37</th>\n",
       "      <td>current_month_balance_balpers</td>\n",
       "      <td>0.004608</td>\n",
       "      <td>0.003207</td>\n",
       "      <td>0.007655</td>\n",
       "      <td>0.006618</td>\n",
       "    </tr>\n",
       "    <tr>\n",
       "      <th>32</th>\n",
       "      <td>previous_month_balance_pct</td>\n",
       "      <td>0.006361</td>\n",
       "      <td>0.003094</td>\n",
       "      <td>0.002211</td>\n",
       "      <td>0.002715</td>\n",
       "    </tr>\n",
       "    <tr>\n",
       "      <th>26</th>\n",
       "      <td>current_month_debit</td>\n",
       "      <td>0.004413</td>\n",
       "      <td>0.002944</td>\n",
       "      <td>0.002104</td>\n",
       "      <td>0.003089</td>\n",
       "    </tr>\n",
       "    <tr>\n",
       "      <th>41</th>\n",
       "      <td>average_monthly_balance_prevQ2_balpers</td>\n",
       "      <td>0.005296</td>\n",
       "      <td>0.002827</td>\n",
       "      <td>0.008389</td>\n",
       "      <td>0.006214</td>\n",
       "    </tr>\n",
       "    <tr>\n",
       "      <th>16</th>\n",
       "      <td>vintage</td>\n",
       "      <td>0.003226</td>\n",
       "      <td>0.002264</td>\n",
       "      <td>0.002106</td>\n",
       "      <td>0.003692</td>\n",
       "    </tr>\n",
       "    <tr>\n",
       "      <th>30</th>\n",
       "      <td>current_month_balance_pct</td>\n",
       "      <td>0.007511</td>\n",
       "      <td>0.002023</td>\n",
       "      <td>0.002075</td>\n",
       "      <td>-0.000537</td>\n",
       "    </tr>\n",
       "    <tr>\n",
       "      <th>29</th>\n",
       "      <td>previous_month_credit</td>\n",
       "      <td>0.003187</td>\n",
       "      <td>0.001861</td>\n",
       "      <td>0.001246</td>\n",
       "      <td>0.000597</td>\n",
       "    </tr>\n",
       "    <tr>\n",
       "      <th>35</th>\n",
       "      <td>vintage_vinday</td>\n",
       "      <td>0.001317</td>\n",
       "      <td>0.001556</td>\n",
       "      <td>0.000967</td>\n",
       "      <td>0.001170</td>\n",
       "    </tr>\n",
       "    <tr>\n",
       "      <th>7</th>\n",
       "      <td>x0_Female</td>\n",
       "      <td>0.001888</td>\n",
       "      <td>0.001085</td>\n",
       "      <td>0.000580</td>\n",
       "      <td>-0.000032</td>\n",
       "    </tr>\n",
       "    <tr>\n",
       "      <th>23</th>\n",
       "      <td>previous_month_balance</td>\n",
       "      <td>0.004498</td>\n",
       "      <td>0.001071</td>\n",
       "      <td>0.002436</td>\n",
       "      <td>0.000808</td>\n",
       "    </tr>\n",
       "    <tr>\n",
       "      <th>17</th>\n",
       "      <td>age</td>\n",
       "      <td>0.003248</td>\n",
       "      <td>0.001055</td>\n",
       "      <td>0.001255</td>\n",
       "      <td>0.001248</td>\n",
       "    </tr>\n",
       "    <tr>\n",
       "      <th>9</th>\n",
       "      <td>x1_Accountant</td>\n",
       "      <td>0.001224</td>\n",
       "      <td>0.001051</td>\n",
       "      <td>0.000408</td>\n",
       "      <td>0.000795</td>\n",
       "    </tr>\n",
       "    <tr>\n",
       "      <th>44</th>\n",
       "      <td>current_month_debit_debitpers</td>\n",
       "      <td>0.002964</td>\n",
       "      <td>0.001031</td>\n",
       "      <td>0.000614</td>\n",
       "      <td>0.000481</td>\n",
       "    </tr>\n",
       "  </tbody>\n",
       "</table>\n",
       "</div>"
      ],
      "text/plain": [
       "                                  features  MLP_train_v1  MLP_test_v1  \\\n",
       "24           average_monthly_balance_prevQ      0.061486     0.072757   \n",
       "40   average_monthly_balance_prevQ_balpers      0.057214     0.066146   \n",
       "36                 current_balance_balpers      0.067883     0.060833   \n",
       "20                         current_balance      0.054706     0.048338   \n",
       "34      average_monthly_balance_prevQ2_pct      0.019776     0.015175   \n",
       "21                   current_month_balance      0.013135     0.010977   \n",
       "31          previous_month_end_balance_pct      0.007733     0.008751   \n",
       "33       average_monthly_balance_prevQ_pct      0.016330     0.008615   \n",
       "39          previous_month_balance_balpers      0.005551     0.005653   \n",
       "25          average_monthly_balance_prevQ2      0.005009     0.003258   \n",
       "37           current_month_balance_balpers      0.004608     0.003207   \n",
       "32              previous_month_balance_pct      0.006361     0.003094   \n",
       "26                     current_month_debit      0.004413     0.002944   \n",
       "41  average_monthly_balance_prevQ2_balpers      0.005296     0.002827   \n",
       "16                                 vintage      0.003226     0.002264   \n",
       "30               current_month_balance_pct      0.007511     0.002023   \n",
       "29                   previous_month_credit      0.003187     0.001861   \n",
       "35                          vintage_vinday      0.001317     0.001556   \n",
       "7                                x0_Female      0.001888     0.001085   \n",
       "23                  previous_month_balance      0.004498     0.001071   \n",
       "17                                     age      0.003248     0.001055   \n",
       "9                            x1_Accountant      0.001224     0.001051   \n",
       "44           current_month_debit_debitpers      0.002964     0.001031   \n",
       "\n",
       "    MLP_train_v2  MLP_test_v2  \n",
       "24      0.073842     0.089131  \n",
       "40      0.065581     0.078087  \n",
       "36      0.067744     0.064254  \n",
       "20      0.054508     0.048944  \n",
       "34      0.003486     0.002491  \n",
       "21      0.011873     0.009722  \n",
       "31      0.006497     0.007807  \n",
       "33      0.007646     0.003967  \n",
       "39      0.001624     0.002523  \n",
       "25      0.009606     0.006439  \n",
       "37      0.007655     0.006618  \n",
       "32      0.002211     0.002715  \n",
       "26      0.002104     0.003089  \n",
       "41      0.008389     0.006214  \n",
       "16      0.002106     0.003692  \n",
       "30      0.002075    -0.000537  \n",
       "29      0.001246     0.000597  \n",
       "35      0.000967     0.001170  \n",
       "7       0.000580    -0.000032  \n",
       "23      0.002436     0.000808  \n",
       "17      0.001255     0.001248  \n",
       "9       0.000408     0.000795  \n",
       "44      0.000614     0.000481  "
      ]
     },
     "execution_count": 257,
     "metadata": {},
     "output_type": "execute_result"
    }
   ],
   "source": [
    "print(feat_importances[feat_importances['MLP_test_v1']>=0.001].shape)\n",
    "feat_importances[feat_importances['MLP_test_v1']>=0.001]"
   ]
  },
  {
   "cell_type": "code",
   "execution_count": 254,
   "metadata": {},
   "outputs": [
    {
     "data": {
      "image/png": "[encoded data removed]",
      "text/plain": [
       "<Figure size 720x288 with 2 Axes>"
      ]
     },
     "metadata": {
      "needs_background": "light"
     },
     "output_type": "display_data"
    },
    {
     "data": {
      "image/png": "[encoded data removed]",
      "text/plain": [
       "<Figure size 720x288 with 2 Axes>"
      ]
     },
     "metadata": {
      "needs_background": "light"
     },
     "output_type": "display_data"
    }
   ],
   "source": [
    "idx = feat_importances[feat_importances['MLP_test_v1']>=0.001].index\n",
    "plot_feature_importance(fpi_train_v1['importances_mean'][idx], fpi_test_v1['importances_mean'][idx], dataset=['train','test'], model='MLP_v1')\n",
    "plot_feature_importance(fpi_train_v2['importances_mean'][idx], fpi_test_v2['importances_mean'][idx], dataset=['train','test'], model='MLP_v2')"
   ]
  },
  {
   "cell_type": "markdown",
   "metadata": {},
   "source": [
    "The above dataframe and bar plot shows the 23 most important features in predicting the churn. We could use these features to further train the model and evaluate the effects of feature selection on performace of the candidate models. <br>\n",
    "\n",
    "They also showes that the most importance feature are about the same for both MLP models from 2 hyperparameter settings, although the acture values of th eimportance may differ. <br>"
   ]
  },
  {
   "cell_type": "markdown",
   "metadata": {},
   "source": [
    "## Persist the best model"
   ]
  },
  {
   "cell_type": "code",
   "execution_count": 255,
   "metadata": {},
   "outputs": [
    {
     "data": {
      "text/plain": [
       "['Best churn classifier.joblib']"
      ]
     },
     "execution_count": 255,
     "metadata": {},
     "output_type": "execute_result"
    }
   ],
   "source": [
    "joblib.dump(clf_randsearchcv_v1.best_estimator_, 'Best churn classifier.joblib')"
   ]
  },
  {
   "cell_type": "markdown",
   "metadata": {},
   "source": [
    "## Summary\n",
    "The work on this project is divided into several parts, each presented in a separate notebook. We started by <br>\n",
    "**Part 1)** loading the data and performing exporatory data analysis, <br>\n",
    "**Part 2)** moved into building baseline models of dozens of classfication models and selecting best candidate models for hyperparameter tuning. In the second part of the work, we engineered features based one our understanding of the dataset and domain knowledge and built data pipelines to streamline data preprocessing and ensure the same process for train and test data sets. <br>\n",
    "**Part 3)** We then trained over a dozen of classification models and tuned several promising ones. We then looked at another aspect of model performance, i.e., weather the model is underfitting, overfitting or just perfect. Finally we looked at the importance of each features by computing the permutation importance of each feature. \n",
    "\n",
    "Below list captures the main steps of this work:\n",
    "\n",
    "1) Perform Exploratory data analysis\n",
    "2) Build and evaluate baseline models without feature engineering\n",
    "3) Perform Feature engineering and create data pipelines\n",
    "4) Compare more than dozens of classifiers on a performance metric\n",
    "5) Perform hyperparameter tuning on a few best canadidate models\n",
    "6) Evaluate the best candidate models on the test set\n",
    "7) Analyze feature importance\n",
    "8) Persist the best models for deployment or further tuning\n",
    "\n",
    "## **Conclusions**\n",
    "1) **The best model is multi-layer perceptron (MLPClassifier)** from scikit-learn's neural network module, with the **prediction accurace of 0.837**. \n",
    "2) The **most influencial features** are: <br>\n",
    "    -- average_monthly_balance_prevQ <br>\n",
    "    -- average_monthly_balance_prevQ per person in the household <br>\n",
    "    -- current_balance per person in the household <br>\n",
    "    -- current_balance <br>\n",
    "3) Most of the engineered features are among the top 20 most influencial features.\n",
    "4) The best model is able to predict customer churn with 83.7% accuracy.\n",
    "5) The best model is somewhat ***underfitting***.\n",
    "6) The **feature engineering improved the prediction accuracy from 72% to 83%**."
   ]
  },
  {
   "cell_type": "markdown",
   "metadata": {},
   "source": [
    "## Future work\n",
    "We performed the feature importance analysis on the best model, and found out the most influencial features. To futher improve model prediction accuracy, our future work is therefore including, but not limiting to: <br>\n",
    "\n",
    "1) Select the top n features to train and tune the model.\n",
    "2) Interpret the model results to the extent possible.\n",
    "3) Further improve predictive power by using more complex algorithms, such as deep learning with TensorFlow's advanced neural networks, since the best MLPclassifier has only 83.7% accuracy, and is underfitting. \n",
    "\n",
    "This concludes our work."
   ]
  }
 ],
 "metadata": {
  "kernelspec": {
   "display_name": "Python 3",
   "language": "python",
   "name": "python3"
  },
  "language_info": {
   "codemirror_mode": {
    "name": "ipython",
    "version": 3
   },
   "file_extension": ".py",
   "mimetype": "text/x-python",
   "name": "python",
   "nbconvert_exporter": "python",
   "pygments_lexer": "ipython3",
   "version": "3.8.5"
  }
 },
 "nbformat": 4,
 "nbformat_minor": 4
}
