{
 "cells": [
  {
   "cell_type": "markdown",
   "metadata": {},
   "source": [
    "# Machine learning project -- Part 3  Create data pipeline\n",
    "\n",
    "This project is to build a predictive machine learning model using the customer churn data available at Kaggle website. <br>\n",
    "Part 3 will look at create data pipelines for transforming and engineering new features to improve model performance.<br>\n",
    "\n",
    "The transformation to be considered:\n",
    "1. Imputing missing value for categorical variables\n",
    "2. Imputing missing value for numerical variables\n",
    "3. categorical variables: one hot encoding and ordinal encoding \n",
    "4. numerical variable: log transformation and standard scaling\n",
    "5. Feature engineering: binning/bucketing, percent change for features of consecutive periods"
   ]
  },
  {
   "cell_type": "markdown",
   "metadata": {},
   "source": [
    "## Global functions"
   ]
  },
  {
   "cell_type": "code",
   "execution_count": 2,
   "metadata": {},
   "outputs": [],
   "source": [
    "import pandas as pd\n",
    "import numpy as np\n",
    "import joblib\n",
    "\n",
    "from sklearn.model_selection import train_test_split\n",
    "from sklearn.preprocessing import FunctionTransformer\n",
    "from sklearn.preprocessing import StandardScaler, OneHotEncoder, OrdinalEncoder\n",
    "from sklearn.impute import SimpleImputer\n",
    "from sklearn.pipeline import Pipeline\n",
    "from sklearn.compose import ColumnTransformer\n",
    "\n",
    "from customfunctions import combine_cat, log_transform, impute_balance, impute_credit_debit\n",
    "from customfunctions import calculate_pct_change, calculate_ratio \n",
    "from customfunctions import calculate_vintage_age_score_eqdist, calculate_vintage_age_score_eqdens"
   ]
  },
  {
   "cell_type": "markdown",
   "metadata": {},
   "source": [
    "## Read in data nad split into train and test\n",
    "### Read in data"
   ]
  },
  {
   "cell_type": "code",
   "execution_count": 3,
   "metadata": {},
   "outputs": [
    {
     "name": "stdout",
     "output_type": "stream",
     "text": [
      "Shape: (17654, 20)\n"
     ]
    },
    {
     "data": {
      "text/html": [
       "<div>\n",
       "<style scoped>\n",
       "    .dataframe tbody tr th:only-of-type {\n",
       "        vertical-align: middle;\n",
       "    }\n",
       "\n",
       "    .dataframe tbody tr th {\n",
       "        vertical-align: top;\n",
       "    }\n",
       "\n",
       "    .dataframe thead th {\n",
       "        text-align: right;\n",
       "    }\n",
       "</style>\n",
       "<table border=\"1\" class=\"dataframe\">\n",
       "  <thead>\n",
       "    <tr style=\"text-align: right;\">\n",
       "      <th></th>\n",
       "      <th>customer_id</th>\n",
       "      <th>vintage</th>\n",
       "      <th>age</th>\n",
       "      <th>gender</th>\n",
       "      <th>dependents</th>\n",
       "      <th>occupation</th>\n",
       "      <th>customer_nw_category</th>\n",
       "      <th>branch_code</th>\n",
       "      <th>days_since_last_transaction</th>\n",
       "      <th>current_balance</th>\n",
       "      <th>previous_month_end_balance</th>\n",
       "      <th>average_monthly_balance_prevQ</th>\n",
       "      <th>average_monthly_balance_prevQ2</th>\n",
       "      <th>current_month_credit</th>\n",
       "      <th>previous_month_credit</th>\n",
       "      <th>current_month_debit</th>\n",
       "      <th>previous_month_debit</th>\n",
       "      <th>current_month_balance</th>\n",
       "      <th>previous_month_balance</th>\n",
       "      <th>churn</th>\n",
       "    </tr>\n",
       "  </thead>\n",
       "  <tbody>\n",
       "    <tr>\n",
       "      <th>10104</th>\n",
       "      <td>13866.0</td>\n",
       "      <td>3065.0</td>\n",
       "      <td>59.0</td>\n",
       "      <td>Male</td>\n",
       "      <td>0.0</td>\n",
       "      <td>Engineer</td>\n",
       "      <td>High</td>\n",
       "      <td>60.0</td>\n",
       "      <td>35.0</td>\n",
       "      <td>3087.83</td>\n",
       "      <td>9359.99</td>\n",
       "      <td>6079.76</td>\n",
       "      <td>15814.81</td>\n",
       "      <td>0.03</td>\n",
       "      <td>6428.60</td>\n",
       "      <td>6272.19</td>\n",
       "      <td>714.31</td>\n",
       "      <td>6744.47</td>\n",
       "      <td>7335.26</td>\n",
       "      <td>Yes</td>\n",
       "    </tr>\n",
       "    <tr>\n",
       "      <th>2192</th>\n",
       "      <td>2991.0</td>\n",
       "      <td>2938.0</td>\n",
       "      <td>43.0</td>\n",
       "      <td>Female</td>\n",
       "      <td>0.0</td>\n",
       "      <td>Accountant</td>\n",
       "      <td>Medium</td>\n",
       "      <td>273.0</td>\n",
       "      <td>18.0</td>\n",
       "      <td>3583.45</td>\n",
       "      <td>4412.58</td>\n",
       "      <td>5035.38</td>\n",
       "      <td>3670.67</td>\n",
       "      <td>7700.10</td>\n",
       "      <td>832.97</td>\n",
       "      <td>8485.38</td>\n",
       "      <td>517.80</td>\n",
       "      <td>5979.99</td>\n",
       "      <td>4492.54</td>\n",
       "      <td>Yes</td>\n",
       "    </tr>\n",
       "    <tr>\n",
       "      <th>6835</th>\n",
       "      <td>9326.0</td>\n",
       "      <td>1302.0</td>\n",
       "      <td>37.0</td>\n",
       "      <td>Female</td>\n",
       "      <td>0.0</td>\n",
       "      <td>Engineer</td>\n",
       "      <td>Medium</td>\n",
       "      <td>696.0</td>\n",
       "      <td>308.0</td>\n",
       "      <td>3065.17</td>\n",
       "      <td>3065.17</td>\n",
       "      <td>3275.31</td>\n",
       "      <td>3730.40</td>\n",
       "      <td>0.44</td>\n",
       "      <td>0.44</td>\n",
       "      <td>0.44</td>\n",
       "      <td>414.73</td>\n",
       "      <td>3065.17</td>\n",
       "      <td>3145.82</td>\n",
       "      <td>No</td>\n",
       "    </tr>\n",
       "    <tr>\n",
       "      <th>10568</th>\n",
       "      <td>14480.0</td>\n",
       "      <td>3853.0</td>\n",
       "      <td>13.0</td>\n",
       "      <td>Male</td>\n",
       "      <td>0.0</td>\n",
       "      <td>Engineer</td>\n",
       "      <td>High</td>\n",
       "      <td>1374.0</td>\n",
       "      <td>3.0</td>\n",
       "      <td>2750.79</td>\n",
       "      <td>2485.07</td>\n",
       "      <td>7888.58</td>\n",
       "      <td>10073.91</td>\n",
       "      <td>266.27</td>\n",
       "      <td>10920.99</td>\n",
       "      <td>0.56</td>\n",
       "      <td>18571.99</td>\n",
       "      <td>2494.23</td>\n",
       "      <td>11035.44</td>\n",
       "      <td>Yes</td>\n",
       "    </tr>\n",
       "    <tr>\n",
       "      <th>13628</th>\n",
       "      <td>18660.0</td>\n",
       "      <td>6072.0</td>\n",
       "      <td>38.0</td>\n",
       "      <td>Male</td>\n",
       "      <td>0.0</td>\n",
       "      <td>Accountant</td>\n",
       "      <td>Low</td>\n",
       "      <td>406.0</td>\n",
       "      <td>138.0</td>\n",
       "      <td>5701.94</td>\n",
       "      <td>6027.51</td>\n",
       "      <td>6693.88</td>\n",
       "      <td>5163.77</td>\n",
       "      <td>0.59</td>\n",
       "      <td>0.59</td>\n",
       "      <td>201.27</td>\n",
       "      <td>622.63</td>\n",
       "      <td>5760.96</td>\n",
       "      <td>6457.34</td>\n",
       "      <td>Yes</td>\n",
       "    </tr>\n",
       "  </tbody>\n",
       "</table>\n",
       "</div>"
      ],
      "text/plain": [
       "       customer_id  vintage   age  gender  dependents  occupation  \\\n",
       "10104      13866.0   3065.0  59.0    Male         0.0    Engineer   \n",
       "2192        2991.0   2938.0  43.0  Female         0.0  Accountant   \n",
       "6835        9326.0   1302.0  37.0  Female         0.0    Engineer   \n",
       "10568      14480.0   3853.0  13.0    Male         0.0    Engineer   \n",
       "13628      18660.0   6072.0  38.0    Male         0.0  Accountant   \n",
       "\n",
       "      customer_nw_category  branch_code  days_since_last_transaction  \\\n",
       "10104                 High         60.0                         35.0   \n",
       "2192                Medium        273.0                         18.0   \n",
       "6835                Medium        696.0                        308.0   \n",
       "10568                 High       1374.0                          3.0   \n",
       "13628                  Low        406.0                        138.0   \n",
       "\n",
       "       current_balance  previous_month_end_balance  \\\n",
       "10104          3087.83                     9359.99   \n",
       "2192           3583.45                     4412.58   \n",
       "6835           3065.17                     3065.17   \n",
       "10568          2750.79                     2485.07   \n",
       "13628          5701.94                     6027.51   \n",
       "\n",
       "       average_monthly_balance_prevQ  average_monthly_balance_prevQ2  \\\n",
       "10104                        6079.76                        15814.81   \n",
       "2192                         5035.38                         3670.67   \n",
       "6835                         3275.31                         3730.40   \n",
       "10568                        7888.58                        10073.91   \n",
       "13628                        6693.88                         5163.77   \n",
       "\n",
       "       current_month_credit  previous_month_credit  current_month_debit  \\\n",
       "10104                  0.03                6428.60              6272.19   \n",
       "2192                7700.10                 832.97              8485.38   \n",
       "6835                   0.44                   0.44                 0.44   \n",
       "10568                266.27               10920.99                 0.56   \n",
       "13628                  0.59                   0.59               201.27   \n",
       "\n",
       "       previous_month_debit  current_month_balance  previous_month_balance  \\\n",
       "10104                714.31                6744.47                 7335.26   \n",
       "2192                 517.80                5979.99                 4492.54   \n",
       "6835                 414.73                3065.17                 3145.82   \n",
       "10568              18571.99                2494.23                11035.44   \n",
       "13628                622.63                5760.96                 6457.34   \n",
       "\n",
       "      churn  \n",
       "10104   Yes  \n",
       "2192    Yes  \n",
       "6835     No  \n",
       "10568   Yes  \n",
       "13628   Yes  "
      ]
     },
     "execution_count": 3,
     "metadata": {},
     "output_type": "execute_result"
    }
   ],
   "source": [
    "## Read in data\n",
    "df0 = pd.read_csv('./data/visathon_train_data.csv')#,index=customer_id)\n",
    "print('Shape: {}'.format(df0.shape))\n",
    "df0.sample(5)"
   ]
  },
  {
   "cell_type": "markdown",
   "metadata": {},
   "source": [
    "### Group features"
   ]
  },
  {
   "cell_type": "code",
   "execution_count": 4,
   "metadata": {},
   "outputs": [],
   "source": [
    "depend = ['dependents']\n",
    "cat_vars = ['gender', 'occupation']#,'branch_code']\n",
    "\n",
    "nw_cat = ['customer_nw_category']\n",
    "bal_vars = ['current_balance', 'current_month_balance', \n",
    "            'previous_month_end_balance','previous_month_balance',\n",
    "            'average_monthly_balance_prevQ', 'average_monthly_balance_prevQ2']\n",
    "debit_vars = ['current_month_debit','previous_month_debit']\n",
    "credit_vars = ['current_month_credit', 'previous_month_credit']\n",
    "days_br_vars = ['days_since_last_transaction','branch_code']\n",
    "vin_age_vars = ['vintage', 'age']\n",
    "vin_day_vars = ['days_since_last_transaction','vintage']\n",
    "vin_dep_vars = ['dependents','vintage']\n",
    "\n",
    "target = 'churn'"
   ]
  },
  {
   "cell_type": "markdown",
   "metadata": {},
   "source": [
    "### Split data"
   ]
  },
  {
   "cell_type": "code",
   "execution_count": 5,
   "metadata": {},
   "outputs": [],
   "source": [
    "X = df0.drop(target,axis=1).copy()\n",
    "y = df0[target].copy()"
   ]
  },
  {
   "cell_type": "code",
   "execution_count": 6,
   "metadata": {},
   "outputs": [
    {
     "name": "stdout",
     "output_type": "stream",
     "text": [
      "X_train shape: (13240, 19)\n",
      "X_valid shape: (4414, 19)\n",
      "y_train shape: (13240,)\n",
      "y_valid shape: (4414,)\n"
     ]
    }
   ],
   "source": [
    "X_train,X_valid,y_train,y_valid = train_test_split(X,y,test_size=0.25, random_state=10086)\n",
    "print('X_train shape: {}\\nX_valid shape: {}\\ny_train shape: {}\\ny_valid shape: {}'.format( X_train.shape, X_valid.shape, y_train.shape, y_valid.shape))"
   ]
  },
  {
   "cell_type": "markdown",
   "metadata": {},
   "source": [
    "## Make pipelines\n",
    "### 1) Convert custom functions into transformers"
   ]
  },
  {
   "cell_type": "code",
   "execution_count": 20,
   "metadata": {},
   "outputs": [],
   "source": [
    "# Original features\n",
    "comb_cat_depend = FunctionTransformer(func=combine_cat, kw_args={'cutoff':6, 'replace':6}, validate=False)\n",
    "log_tsfm = FunctionTransformer(func=log_transform)\n",
    "impute_crdt_dbt = FunctionTransformer(func=impute_credit_debit)\n",
    "impute_bal = FunctionTransformer(func=impute_balance)\n",
    "\n",
    "# feature engineering\n",
    "pct_tsfm = FunctionTransformer(func=calculate_pct_change)\n",
    "ratio_tsfm = FunctionTransformer(func=calculate_ratio)\n",
    "seniority_tsfm_dist = FunctionTransformer(func=calculate_vintage_age_score_eqdist)\n",
    "seniority_tsfm_dens= FunctionTransformer(func=calculate_vintage_age_score_eqdens)"
   ]
  },
  {
   "cell_type": "markdown",
   "metadata": {},
   "source": [
    "### 2) Create pipelines"
   ]
  },
  {
   "cell_type": "code",
   "execution_count": 21,
   "metadata": {},
   "outputs": [],
   "source": [
    "# cat_vars\n",
    "pipe_depend = Pipeline([('comb_depend',comb_cat_depend),\n",
    "                        ('imput_depend',SimpleImputer(strategy='constant',fill_value=1000)),\n",
    "                        ('ohe_depend',OneHotEncoder(handle_unknown='ignore',sparse=False))\n",
    "                       ])\n",
    "pipe_cat = Pipeline([('imput_cat',SimpleImputer(strategy='constant',fill_value='other')),\n",
    "                     ('ohe_cat',OneHotEncoder(handle_unknown='ignore',sparse=False))\n",
    "                    ])"
   ]
  },
  {
   "cell_type": "code",
   "execution_count": 21,
   "metadata": {},
   "outputs": [],
   "source": [
    "# num_vars\n",
    "pipe_vin_age = Pipeline([('imput_base',SimpleImputer(strategy='median')),\n",
    "                         ('scal_base',StandardScaler()) \n",
    "                        ]) # vintage, age\n",
    "pipe_days_br = Pipeline([('imput_days_br',SimpleImputer(strategy='median')),\n",
    "                         ('log_days_br',log_tsfm),\n",
    "                         ('scal_days_br',StandardScaler())\n",
    "                        ]) # days_since_last_transaction\n",
    "pipe_bal = Pipeline([('imput_bal',impute_bal),#AmongFeaturesMeanImputer(features=bal_vars)),\n",
    "                     ('log_bal',log_tsfm),\n",
    "                     ('scal_bal',StandardScaler())\n",
    "                    ])\n",
    "pipe_credit = Pipeline([('imput_credit', impute_crdt_dbt), #AmongFeaturesMeanImputer(features=credit_vars)),\n",
    "                     ('log_credit',log_tsfm),\n",
    "                     ('scal_credit',StandardScaler()) ]) # credit columns\n",
    "pipe_debit = Pipeline([('imput_debit',impute_crdt_dbt),\n",
    "                       ('log_debit',log_tsfm),\n",
    "                       ('scal_debit',StandardScaler()) \n",
    "                      ]) # debit columns"
   ]
  },
  {
   "cell_type": "code",
   "execution_count": 21,
   "metadata": {},
   "outputs": [],
   "source": [
    "# feature engineering\n",
    "pipe_pct = Pipeline([('imput_bal_pct', impute_bal), #AmongFeaturesMeanImputer(features=bal_vars)),\n",
    "                     ('pct_chg',pct_tsfm),\n",
    "                     ('log_bal_pct',log_tsfm),\n",
    "                     ('scal_bal_pct',StandardScaler()) \n",
    "                    ]) # consecutive balance percent change\n",
    "pipe_vin_days = Pipeline([('imput_vinday',SimpleImputer(strategy='median')),\n",
    "                          ('ratio_vinday',ratio_tsfm), # df['days_since_last_transactio','vintage']\n",
    "                          ('scal_vinday',StandardScaler())\n",
    "                         ]) # vintage per days_since_last_transaction\n",
    "pipe_bal_person = Pipeline([('imput_bal_pers', impute_bal), #AmongFeaturesMeanImputer(features=bal_vars)),\n",
    "                            ('ratio_bal_pers',ratio_tsfm), # df['dependents',balance columns]\n",
    "                            ('log_bal_pers',log_tsfm),\n",
    "                            ('scal_bal_pers',StandardScaler()) \n",
    "                           ]) # balance per person\n",
    "pipe_credit_person = Pipeline([('imput_credit_pers', impute_crdt_dbt), #AmongFeaturesMeanImputer(features=credit_vars)),\n",
    "                               ('ratio_credit_pers',ratio_tsfm), # df['dependents',credit columns]\n",
    "                               ('log_credit_pers',log_tsfm),\n",
    "                               ('scal_credit_pers',StandardScaler())\n",
    "                              ]) # credit per person\n",
    "pipe_debit_person = Pipeline([('imput_debit',impute_crdt_dbt),\n",
    "                              ('ratio_debit_pers',ratio_tsfm), # df['dependents', debit columns]\n",
    "                              ('log_debit_pers',log_tsfm),\n",
    "                              ('scal_debit_pers',StandardScaler())\n",
    "                             ]) # debit per person\n",
    "pipe_seniority = Pipeline([('imput_vinage',SimpleImputer(strategy='median')),                      \n",
    "                           ('sr_tsfm', seniority_tsfm_dens),\n",
    "                           ('scal_vinage',StandardScaler()) \n",
    "                          ]) # vintage, age]) "
   ]
  },
  {
   "cell_type": "markdown",
   "metadata": {},
   "source": [
    "### 3) Assemble pipelines"
   ]
  },
  {
   "cell_type": "code",
   "execution_count": 22,
   "metadata": {},
   "outputs": [],
   "source": [
    "nw_categories = [['Low','Medium','High']]\n",
    "pipeline_data = ColumnTransformer([\n",
    "            # categorical vars\n",
    "           ('depend', pipe_depend, depend), # 7 cols\n",
    "           ('cat_vars', pipe_cat, cat_vars), # 8 colc\n",
    "           ('ode_nw', OrdinalEncoder(categories=nw_categories), nw_cat), # 1 col\n",
    "           # numeric vars\n",
    "           ('vin_age', pipe_vin_age, vin_age_vars), # 2 cols\n",
    "           ('days_br', pipe_days_br, days_br_vars), # 2 col\n",
    "           ('num_bal', pipe_bal, bal_vars), # 6 cols\n",
    "           ('num_debit', pipe_debit, debit_vars), # 2 cols\n",
    "           ('num_credit', pipe_credit, credit_vars), # 2 cols\n",
    "           # engineered features\n",
    "           ('eng_pct',pipe_pct, bal_vars), # 5 cols\n",
    "           ('eng_vinday', pipe_vin_days, vin_day_vars), # 1 cols\n",
    "           ('eng_balpers', pipe_bal_person, depend+bal_vars), # 6 cols\n",
    "           ('eng_crdpers', pipe_credit_person, depend+credit_vars), # 2 cols\n",
    "           ('eng_dbtpers', pipe_debit_person, depend+debit_vars), # 2 cols\n",
    "           ('eng_srscore', pipe_seniority, vin_age_vars) #[vintage, age] # 1 cols\n",
    "  ]) #totla cols = 47"
   ]
  },
  {
   "cell_type": "markdown",
   "metadata": {},
   "source": [
    "## Apply pipeline"
   ]
  },
  {
   "cell_type": "code",
   "execution_count": 23,
   "metadata": {},
   "outputs": [
    {
     "data": {
      "text/plain": [
       "((13240, 47), (4414, 47))"
      ]
     },
     "execution_count": 23,
     "metadata": {},
     "output_type": "execute_result"
    }
   ],
   "source": [
    "pipeline_data.fit(X_train)\n",
    "\n",
    "X_train_transformed = pipeline_data.transform(X_train)\n",
    "X_valid_transformed = pipeline_data.transform(X_valid)\n",
    "\n",
    "X_train_transformed.shape, X_valid_transformed.shape"
   ]
  },
  {
   "cell_type": "markdown",
   "metadata": {},
   "source": [
    "## Save pipeline"
   ]
  },
  {
   "cell_type": "code",
   "execution_count": 24,
   "metadata": {},
   "outputs": [
    {
     "data": {
      "text/plain": [
       "['pipeline_data.joblib']"
      ]
     },
     "execution_count": 24,
     "metadata": {},
     "output_type": "execute_result"
    }
   ],
   "source": [
    "joblib.dump(pipeline_data,'pipeline_data.joblib')\n",
    "# pipeline_data = joblib.load('pipeline_dat.joblib')"
   ]
  },
  {
   "cell_type": "markdown",
   "metadata": {},
   "source": [
    "## Next step\n",
    "Next step is to feed the transformed data into models."
   ]
  }
 ],
 "metadata": {
  "kernelspec": {
   "display_name": "Python 3",
   "language": "python",
   "name": "python3"
  },
  "language_info": {
   "codemirror_mode": {
    "name": "ipython",
    "version": 3
   },
   "file_extension": ".py",
   "mimetype": "text/x-python",
   "name": "python",
   "nbconvert_exporter": "python",
   "pygments_lexer": "ipython3",
   "version": "3.8.5"
  }
 },
 "nbformat": 4,
 "nbformat_minor": 4
}
